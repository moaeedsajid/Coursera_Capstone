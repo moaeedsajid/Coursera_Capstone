{
 "cells": [
  {
   "cell_type": "markdown",
   "metadata": {},
   "source": [
    "# IBM Data Science Specialisation Capstone Project\n",
    "\n",
    "## Identifying Suitable Cycle Shop Sites in the City of London\n",
    "\n",
    "Following the popularity of cycling due to Covid and an investment by the government and Transport for London to increase the amount of cyclists on Londons roads this project will look to see if there is scope to open a new cycle business within the city.\n",
    "\n",
    "This report consists of...\n",
    "\n",
    "### Three Python Notebooks\n",
    "\n",
    "1. Data Collection and Cleaning - https://github.com/moaeedsajid/Coursera_Capstone/blob/master/Capstone_1.ipynb\n",
    "2. Exploratory Data Analysis - https://github.com/moaeedsajid/Coursera_Capstone/blob/master/Capstone_2.ipynb\n",
    "3. Modelling and Results - https://github.com/moaeedsajid/Coursera_Capstone/blob/master/Capstone_3.ipynb\n",
    "\n",
    "### The Project report\n",
    "\n",
    "Available at - https://github.com/moaeedsajid/Coursera_Capstone/blob/master/Project_Report.pdf\n",
    "\n",
    "### Project Presenation\n",
    "\n",
    "Available at - https://docs.google.com/presentation/d/1_1c2KGp2CW7omm3PDvO8Fu8_PQcr53piqXNSgDayMAc/edit?usp=sharing\n",
    "\n",
    "Thank you for grading this project and I wish you the best with your own submission\n",
    "\n",
    "### Moaeed Sajid - August 2020"
   ]
  }
 ],
 "metadata": {
  "kernelspec": {
   "display_name": "Python 3",
   "language": "python",
   "name": "python3"
  },
  "language_info": {
   "codemirror_mode": {
    "name": "ipython",
    "version": 3
   },
   "file_extension": ".py",
   "mimetype": "text/x-python",
   "name": "python",
   "nbconvert_exporter": "python",
   "pygments_lexer": "ipython3",
   "version": "3.7.4"
  }
 },
 "nbformat": 4,
 "nbformat_minor": 2
}