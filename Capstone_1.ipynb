{
 "cells": [
  {
   "cell_type": "markdown",
   "metadata": {
    "tags": []
   },
   "source": [
    "<h1 align=center><font size = 5>Identifying Suitable Areas for a Cycle Shop in London</font></h1>\n",
    "<h2 align=center><font size = 5>Part 1 - Acquisition and Cleaning of Data</font></h2>"
   ]
  },
  {
   "cell_type": "markdown",
   "metadata": {},
   "source": [
    "## Introduction\n",
    "\n",
    "In this notebook we will be acquiring and preparing our data ready for EDA.  Our data sources are\n",
    "\n",
    " - List of London Boroughs including area and population size from *Wikipedia*\n",
    " - JSON file with the boundaries of each of Londons boroughs from *http://skgrange.github.io/data.html*\n",
    " - JSON file with the current cycle routes from *Transport for Londons Open Data Portal* (not yet available in API)\n",
    " - List of cycle shops in London using the *FourSquare API*\n",
    "\n"
   ]
  },
  {
   "cell_type": "markdown",
   "metadata": {},
   "source": [
    "## Notebook Setup"
   ]
  },
  {
   "cell_type": "code",
   "execution_count": 1,
   "metadata": {},
   "outputs": [],
   "source": [
    "#!pip install Beautifulsoup4 \n",
    "#!pip install lxml\n",
    "\n",
    "import pandas as pd\n",
    "import numpy as np\n",
    "#import folium\n",
    "import json\n",
    "import urllib.request\n",
    "from bs4 import BeautifulSoup\n",
    "import lxml\n",
    "import requests\n",
    "from pandas.core.common import flatten"
   ]
  },
  {
   "cell_type": "code",
   "execution_count": 2,
   "metadata": {},
   "outputs": [],
   "source": [
    "# This function is called to download any content from the web (Mac), giving a status update throughout\n",
    "# import urllib.request\n",
    "\n",
    "def Download_Progress(block_num, block_size, total_size):\n",
    "    downloaded = block_num * block_size\n",
    "    progress = int((downloaded/total_size)*100)\n",
    "    if progress > 100:\n",
    "        progress = 100\n",
    "    print ('\\r',\"Download Progress\",str(progress),\"%\", end = '')"
   ]
  },
  {
   "cell_type": "code",
   "execution_count": 3,
   "metadata": {},
   "outputs": [],
   "source": [
    "# This function splits a list with n elements per list.  It's used after we flatten the route co-ordinates due to multiple levels of list and need to rebuild them as a single list.\n",
    "def chunks(lst, n):\n",
    "    \"\"\"Yield successive n-sized chunks from lst.\"\"\"\n",
    "    for i in range(0, len(lst), n):\n",
    "        yield lst[i:i + n]"
   ]
  },
  {
   "cell_type": "code",
   "execution_count": 4,
   "metadata": {},
   "outputs": [],
   "source": [
    "#This function is used to determine if a point is within a json boundary.  It will take the boundary details from the geoData.json file and compare it against the coordinates supplied.  Boolean answer with True as falling within the boundary and false outside.\n",
    "\n",
    "def is_point_in_path(x: int, y: int, poly) -> bool:\n",
    "    \"\"\"Determine if the point is in the path.\n",
    "\n",
    "    Args:\n",
    "      x -- The x coordinates of point.\n",
    "      y -- The y coordinates of point.\n",
    "      poly -- a list of tuples [(x, y), (x, y), ...]\n",
    "\n",
    "    Returns:\n",
    "      True if the point is in the path.\n",
    "    \"\"\"\n",
    "    num = len(poly)\n",
    "    i = 0\n",
    "    j = num - 1\n",
    "    c = False\n",
    "    for i in range(num):\n",
    "        if ((poly[i][1] > y) != (poly[j][1] > y)) and \\\n",
    "                (x < poly[i][0] + (poly[j][0] - poly[i][0]) * (y - poly[i][1]) /\n",
    "                                  (poly[j][1] - poly[i][1])):\n",
    "            c = not c\n",
    "        j = i\n",
    "    return c"
   ]
  },
  {
   "cell_type": "markdown",
   "metadata": {},
   "source": [
    "## London Boroughs, Primary Dataset"
   ]
  },
  {
   "cell_type": "code",
   "execution_count": 5,
   "metadata": {
    "tags": []
   },
   "outputs": [
    {
     "output_type": "stream",
     "name": "stdout",
     "text": "Splitting each table entry\nFirst 3 Entries\n"
    },
    {
     "output_type": "display_data",
     "data": {
      "text/plain": "[['',\n  'Borough',\n  '',\n  'Inner',\n  '',\n  'Status',\n  '',\n  'Local authority',\n  '',\n  'Political control',\n  '',\n  'Headquarters',\n  '',\n  'Area (sq mi)',\n  '',\n  'Population (2013 est)[1]',\n  '',\n  'Co-ordinates',\n  '',\n  ' Nr. in map ',\n  ''],\n ['',\n  'Barking and Dagenham [note 1]',\n  '',\n  '',\n  '',\n  '',\n  '',\n  'Barking and Dagenham London Borough Council',\n  '',\n  'Labour',\n  '',\n  'Town Hall, 1 Town Square',\n  '',\n  '13.93',\n  '',\n  '194,352',\n  '',\n  '51°33′39″N 0°09′21″E\\ufeff / \\ufeff51.5607°N 0.1557°E\\ufeff / 51.5607; 0.1557\\ufeff (Barking and Dagenham)',\n  '',\n  '25',\n  ''],\n ['',\n  'Barnet',\n  '',\n  '',\n  '',\n  '',\n  '',\n  'Barnet London Borough Council',\n  '',\n  'Conservative',\n  '',\n  'Barnet House, 2 Bristol Avenue, Colindale',\n  '',\n  '33.49',\n  '',\n  '369,088',\n  '',\n  '51°37′31″N 0°09′06″W\\ufeff / \\ufeff51.6252°N 0.1517°W\\ufeff / 51.6252; -0.1517\\ufeff (Barnet)',\n  '',\n  '31',\n  '']]"
     },
     "metadata": {}
    }
   ],
   "source": [
    "#!pip install Beautifulsoup4 \n",
    "#!pip install lxml\n",
    "\n",
    "#from bs4 import BeautifulSoup\n",
    "#import lxml\n",
    "#import requests\n",
    "\n",
    "url = 'https://en.wikipedia.org/wiki/List_of_London_boroughs'\n",
    "source = requests.get(url).text\n",
    "\n",
    "soup = BeautifulSoup(source, 'lxml')\n",
    "\n",
    "codeTable = soup.find('table')\n",
    "\n",
    "entries = [] # Used for splitting each row\n",
    "\n",
    "# split the text\n",
    "print(\"Splitting each table entry\")\n",
    "for td in codeTable.find_all('tr'):\n",
    "    entries.append((td.text).split('\\n'))\n",
    "\n",
    "print(\"First 3 Entries\")\n",
    "display(entries[0:3])\n"
   ]
  },
  {
   "cell_type": "code",
   "execution_count": 6,
   "metadata": {
    "tags": []
   },
   "outputs": [
    {
     "output_type": "execute_result",
     "data": {
      "text/plain": "['51°33′39″N 0°09′21″E / 51.5607°N 0.1557°E / 51.5607; 0.1557 (Barking and Dagenham)',\n '51°37′31″N 0°09′06″W / 51.6252°N 0.1517°W / 51.6252; -0.1517 (Barnet)',\n '51°27′18″N 0°09′02″E / 51.4549°N 0.1505°E / 51.4549; 0.1505 (Bexley)',\n '51°33′32″N 0°16′54″W / 51.5588°N 0.2817°W / 51.5588; -0.2817 (Brent)',\n '51°24′14″N 0°01′11″E / 51.4039°N 0.0198°E / 51.4039; 0.0198 (Bromley)',\n '51°31′44″N 0°07′32″W / 51.5290°N 0.1255°W / 51.5290; -0.1255 (Camden)',\n '51°22′17″N 0°05′52″W / 51.3714°N 0.0977°W / 51.3714; -0.0977 (Croydon)',\n '51°30′47″N 0°18′32″W / 51.5130°N 0.3089°W / 51.5130; -0.3089 (Ealing)',\n '51°39′14″N 0°04′48″W / 51.6538°N 0.0799°W / 51.6538; -0.0799 (Enfield)',\n '51°29′21″N 0°03′53″E / 51.4892°N 0.0648°E / 51.4892; 0.0648 (Greenwich)',\n '51°32′42″N 0°03′19″W / 51.5450°N 0.0553°W / 51.5450; -0.0553 (Hackney)',\n '51°29′34″N 0°14′02″W / 51.4927°N 0.2339°W / 51.4927; -0.2339 (Hammersmith and Fulham)',\n '51°36′00″N 0°06′43″W / 51.6000°N 0.1119°W / 51.6000; -0.1119 (Haringey)',\n '51°35′23″N 0°20′05″W / 51.5898°N 0.3346°W / 51.5898; -0.3346 (Harrow)',\n '51°34′52″N 0°11′01″E / 51.5812°N 0.1837°E / 51.5812; 0.1837 (Havering)',\n '51°32′39″N 0°28′34″W / 51.5441°N 0.4760°W / 51.5441; -0.4760 (Hillingdon)',\n '51°28′29″N 0°22′05″W / 51.4746°N 0.3680°W / 51.4746; -0.3680 (Hounslow)',\n '51°32′30″N 0°06′08″W / 51.5416°N 0.1022°W / 51.5416; -0.1022 (Islington)',\n '51°30′07″N 0°11′41″W / 51.5020°N 0.1947°W / 51.5020; -0.1947 (Kensington and Chelsea)',\n '51°24′31″N 0°18′23″W / 51.4085°N 0.3064°W / 51.4085; -0.3064 (Kingston upon Thames)',\n '51°27′39″N 0°06′59″W / 51.4607°N 0.1163°W / 51.4607; -0.1163 (Lambeth)',\n '51°26′43″N 0°01′15″W / 51.4452°N 0.0209°W / 51.4452; -0.0209 (Lewisham)',\n '51°24′05″N 0°11′45″W / 51.4014°N 0.1958°W / 51.4014; -0.1958 (Merton)',\n '51°30′28″N 0°02′49″E / 51.5077°N 0.0469°E / 51.5077; 0.0469 (Newham)',\n '51°33′32″N 0°04′27″E / 51.5590°N 0.0741°E / 51.5590; 0.0741 (Redbridge)',\n '51°26′52″N 0°19′34″W / 51.4479°N 0.3260°W / 51.4479; -0.3260 (Richmond upon Thames)',\n '51°30′13″N 0°04′49″W / 51.5035°N 0.0804°W / 51.5035; -0.0804 (Southwark)',\n '51°21′42″N 0°11′40″W / 51.3618°N 0.1945°W / 51.3618; -0.1945 (Sutton)',\n '51°30′36″N 0°00′21″W / 51.5099°N 0.0059°W / 51.5099; -0.0059 (Tower Hamlets)',\n '51°35′27″N 0°00′48″W / 51.5908°N 0.0134°W / 51.5908; -0.0134 (Waltham Forest)',\n '51°27′24″N 0°11′28″W / 51.4567°N 0.1910°W / 51.4567; -0.1910 (Wandsworth)',\n '51°29′50″N 0°08′14″W / 51.4973°N 0.1372°W / 51.4973; -0.1372 (Westminster)']"
     },
     "metadata": {},
     "execution_count": 6
    }
   ],
   "source": [
    "# The coordinates have a BOM (\\ufeff) character that needs to be cleaned out \n",
    "\n",
    "cleanCoordinates = []\n",
    "\n",
    "for entry in entries:\n",
    "    cleanCoordinates.append(str.replace(entry[17],u'\\ufeff', ''))\n",
    "\n",
    "cleanCoordinates.pop(0) #Drop column name\n",
    "cleanCoordinates"
   ]
  },
  {
   "cell_type": "code",
   "execution_count": 7,
   "metadata": {
    "tags": []
   },
   "outputs": [
    {
     "output_type": "stream",
     "name": "stdout",
     "text": "\nConverted to DataFrame\n"
    },
    {
     "output_type": "display_data",
     "data": {
      "text/plain": "                            Borough   Area Population  \\\n1     Barking and Dagenham [note 1]  13.93    194,352   \n2                            Barnet  33.49    369,088   \n3                            Bexley  23.38    236,687   \n4                             Brent  16.70    317,264   \n5                           Bromley  57.97    317,899   \n6                            Camden   8.40    229,719   \n7                           Croydon  33.41    372,752   \n8                            Ealing  21.44    342,494   \n9                           Enfield  31.74    320,524   \n10               Greenwich [note 2]  18.28    264,008   \n11                          Hackney   7.36    257,379   \n12  Hammersmith and Fulham [note 4]   6.33    178,685   \n13                         Haringey  11.42    263,386   \n14                           Harrow  19.49    243,372   \n15                         Havering  43.35    242,080   \n16                       Hillingdon  44.67    286,806   \n17                         Hounslow  21.61    262,407   \n18                        Islington   5.74    215,667   \n19           Kensington and Chelsea   4.68    155,594   \n20             Kingston upon Thames  14.38    166,793   \n21                          Lambeth  10.36    314,242   \n22                         Lewisham  13.57    286,180   \n23                           Merton  14.52    203,223   \n24                           Newham  13.98    318,227   \n25                        Redbridge  21.78    288,272   \n26             Richmond upon Thames  22.17    191,365   \n27                        Southwark  11.14    298,464   \n28                           Sutton  16.93    195,914   \n29                    Tower Hamlets   7.63    272,890   \n30                   Waltham Forest  14.99    265,797   \n31                       Wandsworth  13.23    310,516   \n32                      Westminster   8.29    226,841   \n\n                                          Coordinates  \n1   51°33′39″N 0°09′21″E / 51.5607°N 0.1557°E / 51...  \n2   51°37′31″N 0°09′06″W / 51.6252°N 0.1517°W / 51...  \n3   51°27′18″N 0°09′02″E / 51.4549°N 0.1505°E / 51...  \n4   51°33′32″N 0°16′54″W / 51.5588°N 0.2817°W / 51...  \n5   51°24′14″N 0°01′11″E / 51.4039°N 0.0198°E / 51...  \n6   51°31′44″N 0°07′32″W / 51.5290°N 0.1255°W / 51...  \n7   51°22′17″N 0°05′52″W / 51.3714°N 0.0977°W / 51...  \n8   51°30′47″N 0°18′32″W / 51.5130°N 0.3089°W / 51...  \n9   51°39′14″N 0°04′48″W / 51.6538°N 0.0799°W / 51...  \n10  51°29′21″N 0°03′53″E / 51.4892°N 0.0648°E / 51...  \n11  51°32′42″N 0°03′19″W / 51.5450°N 0.0553°W / 51...  \n12  51°29′34″N 0°14′02″W / 51.4927°N 0.2339°W / 51...  \n13  51°36′00″N 0°06′43″W / 51.6000°N 0.1119°W / 51...  \n14  51°35′23″N 0°20′05″W / 51.5898°N 0.3346°W / 51...  \n15  51°34′52″N 0°11′01″E / 51.5812°N 0.1837°E / 51...  \n16  51°32′39″N 0°28′34″W / 51.5441°N 0.4760°W / 51...  \n17  51°28′29″N 0°22′05″W / 51.4746°N 0.3680°W / 51...  \n18  51°32′30″N 0°06′08″W / 51.5416°N 0.1022°W / 51...  \n19  51°30′07″N 0°11′41″W / 51.5020°N 0.1947°W / 51...  \n20  51°24′31″N 0°18′23″W / 51.4085°N 0.3064°W / 51...  \n21  51°27′39″N 0°06′59″W / 51.4607°N 0.1163°W / 51...  \n22  51°26′43″N 0°01′15″W / 51.4452°N 0.0209°W / 51...  \n23  51°24′05″N 0°11′45″W / 51.4014°N 0.1958°W / 51...  \n24  51°30′28″N 0°02′49″E / 51.5077°N 0.0469°E / 51...  \n25  51°33′32″N 0°04′27″E / 51.5590°N 0.0741°E / 51...  \n26  51°26′52″N 0°19′34″W / 51.4479°N 0.3260°W / 51...  \n27  51°30′13″N 0°04′49″W / 51.5035°N 0.0804°W / 51...  \n28  51°21′42″N 0°11′40″W / 51.3618°N 0.1945°W / 51...  \n29  51°30′36″N 0°00′21″W / 51.5099°N 0.0059°W / 51...  \n30  51°35′27″N 0°00′48″W / 51.5908°N 0.0134°W / 51...  \n31  51°27′24″N 0°11′28″W / 51.4567°N 0.1910°W / 51...  \n32  51°29′50″N 0°08′14″W / 51.4973°N 0.1372°W / 51...  ",
      "text/html": "<div>\n<style scoped>\n    .dataframe tbody tr th:only-of-type {\n        vertical-align: middle;\n    }\n\n    .dataframe tbody tr th {\n        vertical-align: top;\n    }\n\n    .dataframe thead th {\n        text-align: right;\n    }\n</style>\n<table border=\"1\" class=\"dataframe\">\n  <thead>\n    <tr style=\"text-align: right;\">\n      <th></th>\n      <th>Borough</th>\n      <th>Area</th>\n      <th>Population</th>\n      <th>Coordinates</th>\n    </tr>\n  </thead>\n  <tbody>\n    <tr>\n      <th>1</th>\n      <td>Barking and Dagenham [note 1]</td>\n      <td>13.93</td>\n      <td>194,352</td>\n      <td>51°33′39″N 0°09′21″E / 51.5607°N 0.1557°E / 51...</td>\n    </tr>\n    <tr>\n      <th>2</th>\n      <td>Barnet</td>\n      <td>33.49</td>\n      <td>369,088</td>\n      <td>51°37′31″N 0°09′06″W / 51.6252°N 0.1517°W / 51...</td>\n    </tr>\n    <tr>\n      <th>3</th>\n      <td>Bexley</td>\n      <td>23.38</td>\n      <td>236,687</td>\n      <td>51°27′18″N 0°09′02″E / 51.4549°N 0.1505°E / 51...</td>\n    </tr>\n    <tr>\n      <th>4</th>\n      <td>Brent</td>\n      <td>16.70</td>\n      <td>317,264</td>\n      <td>51°33′32″N 0°16′54″W / 51.5588°N 0.2817°W / 51...</td>\n    </tr>\n    <tr>\n      <th>5</th>\n      <td>Bromley</td>\n      <td>57.97</td>\n      <td>317,899</td>\n      <td>51°24′14″N 0°01′11″E / 51.4039°N 0.0198°E / 51...</td>\n    </tr>\n    <tr>\n      <th>6</th>\n      <td>Camden</td>\n      <td>8.40</td>\n      <td>229,719</td>\n      <td>51°31′44″N 0°07′32″W / 51.5290°N 0.1255°W / 51...</td>\n    </tr>\n    <tr>\n      <th>7</th>\n      <td>Croydon</td>\n      <td>33.41</td>\n      <td>372,752</td>\n      <td>51°22′17″N 0°05′52″W / 51.3714°N 0.0977°W / 51...</td>\n    </tr>\n    <tr>\n      <th>8</th>\n      <td>Ealing</td>\n      <td>21.44</td>\n      <td>342,494</td>\n      <td>51°30′47″N 0°18′32″W / 51.5130°N 0.3089°W / 51...</td>\n    </tr>\n    <tr>\n      <th>9</th>\n      <td>Enfield</td>\n      <td>31.74</td>\n      <td>320,524</td>\n      <td>51°39′14″N 0°04′48″W / 51.6538°N 0.0799°W / 51...</td>\n    </tr>\n    <tr>\n      <th>10</th>\n      <td>Greenwich [note 2]</td>\n      <td>18.28</td>\n      <td>264,008</td>\n      <td>51°29′21″N 0°03′53″E / 51.4892°N 0.0648°E / 51...</td>\n    </tr>\n    <tr>\n      <th>11</th>\n      <td>Hackney</td>\n      <td>7.36</td>\n      <td>257,379</td>\n      <td>51°32′42″N 0°03′19″W / 51.5450°N 0.0553°W / 51...</td>\n    </tr>\n    <tr>\n      <th>12</th>\n      <td>Hammersmith and Fulham [note 4]</td>\n      <td>6.33</td>\n      <td>178,685</td>\n      <td>51°29′34″N 0°14′02″W / 51.4927°N 0.2339°W / 51...</td>\n    </tr>\n    <tr>\n      <th>13</th>\n      <td>Haringey</td>\n      <td>11.42</td>\n      <td>263,386</td>\n      <td>51°36′00″N 0°06′43″W / 51.6000°N 0.1119°W / 51...</td>\n    </tr>\n    <tr>\n      <th>14</th>\n      <td>Harrow</td>\n      <td>19.49</td>\n      <td>243,372</td>\n      <td>51°35′23″N 0°20′05″W / 51.5898°N 0.3346°W / 51...</td>\n    </tr>\n    <tr>\n      <th>15</th>\n      <td>Havering</td>\n      <td>43.35</td>\n      <td>242,080</td>\n      <td>51°34′52″N 0°11′01″E / 51.5812°N 0.1837°E / 51...</td>\n    </tr>\n    <tr>\n      <th>16</th>\n      <td>Hillingdon</td>\n      <td>44.67</td>\n      <td>286,806</td>\n      <td>51°32′39″N 0°28′34″W / 51.5441°N 0.4760°W / 51...</td>\n    </tr>\n    <tr>\n      <th>17</th>\n      <td>Hounslow</td>\n      <td>21.61</td>\n      <td>262,407</td>\n      <td>51°28′29″N 0°22′05″W / 51.4746°N 0.3680°W / 51...</td>\n    </tr>\n    <tr>\n      <th>18</th>\n      <td>Islington</td>\n      <td>5.74</td>\n      <td>215,667</td>\n      <td>51°32′30″N 0°06′08″W / 51.5416°N 0.1022°W / 51...</td>\n    </tr>\n    <tr>\n      <th>19</th>\n      <td>Kensington and Chelsea</td>\n      <td>4.68</td>\n      <td>155,594</td>\n      <td>51°30′07″N 0°11′41″W / 51.5020°N 0.1947°W / 51...</td>\n    </tr>\n    <tr>\n      <th>20</th>\n      <td>Kingston upon Thames</td>\n      <td>14.38</td>\n      <td>166,793</td>\n      <td>51°24′31″N 0°18′23″W / 51.4085°N 0.3064°W / 51...</td>\n    </tr>\n    <tr>\n      <th>21</th>\n      <td>Lambeth</td>\n      <td>10.36</td>\n      <td>314,242</td>\n      <td>51°27′39″N 0°06′59″W / 51.4607°N 0.1163°W / 51...</td>\n    </tr>\n    <tr>\n      <th>22</th>\n      <td>Lewisham</td>\n      <td>13.57</td>\n      <td>286,180</td>\n      <td>51°26′43″N 0°01′15″W / 51.4452°N 0.0209°W / 51...</td>\n    </tr>\n    <tr>\n      <th>23</th>\n      <td>Merton</td>\n      <td>14.52</td>\n      <td>203,223</td>\n      <td>51°24′05″N 0°11′45″W / 51.4014°N 0.1958°W / 51...</td>\n    </tr>\n    <tr>\n      <th>24</th>\n      <td>Newham</td>\n      <td>13.98</td>\n      <td>318,227</td>\n      <td>51°30′28″N 0°02′49″E / 51.5077°N 0.0469°E / 51...</td>\n    </tr>\n    <tr>\n      <th>25</th>\n      <td>Redbridge</td>\n      <td>21.78</td>\n      <td>288,272</td>\n      <td>51°33′32″N 0°04′27″E / 51.5590°N 0.0741°E / 51...</td>\n    </tr>\n    <tr>\n      <th>26</th>\n      <td>Richmond upon Thames</td>\n      <td>22.17</td>\n      <td>191,365</td>\n      <td>51°26′52″N 0°19′34″W / 51.4479°N 0.3260°W / 51...</td>\n    </tr>\n    <tr>\n      <th>27</th>\n      <td>Southwark</td>\n      <td>11.14</td>\n      <td>298,464</td>\n      <td>51°30′13″N 0°04′49″W / 51.5035°N 0.0804°W / 51...</td>\n    </tr>\n    <tr>\n      <th>28</th>\n      <td>Sutton</td>\n      <td>16.93</td>\n      <td>195,914</td>\n      <td>51°21′42″N 0°11′40″W / 51.3618°N 0.1945°W / 51...</td>\n    </tr>\n    <tr>\n      <th>29</th>\n      <td>Tower Hamlets</td>\n      <td>7.63</td>\n      <td>272,890</td>\n      <td>51°30′36″N 0°00′21″W / 51.5099°N 0.0059°W / 51...</td>\n    </tr>\n    <tr>\n      <th>30</th>\n      <td>Waltham Forest</td>\n      <td>14.99</td>\n      <td>265,797</td>\n      <td>51°35′27″N 0°00′48″W / 51.5908°N 0.0134°W / 51...</td>\n    </tr>\n    <tr>\n      <th>31</th>\n      <td>Wandsworth</td>\n      <td>13.23</td>\n      <td>310,516</td>\n      <td>51°27′24″N 0°11′28″W / 51.4567°N 0.1910°W / 51...</td>\n    </tr>\n    <tr>\n      <th>32</th>\n      <td>Westminster</td>\n      <td>8.29</td>\n      <td>226,841</td>\n      <td>51°29′50″N 0°08′14″W / 51.4973°N 0.1372°W / 51...</td>\n    </tr>\n  </tbody>\n</table>\n</div>"
     },
     "metadata": {}
    }
   ],
   "source": [
    "# Conert these entries to a Dataframe\n",
    "\n",
    "borough = []\n",
    "area = []\n",
    "population = []\n",
    "\n",
    "for entry in entries:\n",
    "    borough.append(entry[1])\n",
    "    area.append(entry[13])\n",
    "    population.append(entry[15])\n",
    "\n",
    "\n",
    "# Dicionary for DF Column Names\n",
    "dfDict = {'Borough' : borough, 'Area' : area, 'Population' : population}\n",
    "\n",
    "\n",
    "dfLondon = pd.DataFrame(dfDict) # Empty DF with Columns\n",
    "dfLondon.drop([0], inplace = True) # First row had column names, drop these\n",
    "\n",
    "# Add in our clean co-ordinates\n",
    "dfLondon['Coordinates'] = cleanCoordinates\n",
    "dfLondon\n",
    "\n",
    "print()\n",
    "print(\"Converted to DataFrame\")\n",
    "display(dfLondon)"
   ]
  },
  {
   "cell_type": "markdown",
   "metadata": {},
   "source": [
    "## Clean Up Borough Data\n"
   ]
  },
  {
   "cell_type": "code",
   "execution_count": 8,
   "metadata": {},
   "outputs": [
    {
     "output_type": "execute_result",
     "data": {
      "text/plain": "                   Borough   Area Population         Coordinates  Latitude  \\\n1     Barking and Dagenham  13.93    194,352    51.5607; 0.1557    51.5607   \n2                   Barnet  33.49    369,088   51.6252; -0.1517    51.6252   \n3                   Bexley  23.38    236,687    51.4549; 0.1505    51.4549   \n4                    Brent  16.70    317,264   51.5588; -0.2817    51.5588   \n5                  Bromley  57.97    317,899    51.4039; 0.0198    51.4039   \n6                   Camden   8.40    229,719   51.5290; -0.1255    51.5290   \n7                  Croydon  33.41    372,752   51.3714; -0.0977    51.3714   \n8                   Ealing  21.44    342,494   51.5130; -0.3089    51.5130   \n9                  Enfield  31.74    320,524   51.6538; -0.0799    51.6538   \n10               Greenwich  18.28    264,008    51.4892; 0.0648    51.4892   \n11                 Hackney   7.36    257,379   51.5450; -0.0553    51.5450   \n12  Hammersmith and Fulham   6.33    178,685   51.4927; -0.2339    51.4927   \n13                Haringey  11.42    263,386   51.6000; -0.1119    51.6000   \n14                  Harrow  19.49    243,372   51.5898; -0.3346    51.5898   \n15                Havering  43.35    242,080    51.5812; 0.1837    51.5812   \n16              Hillingdon  44.67    286,806   51.5441; -0.4760    51.5441   \n17                Hounslow  21.61    262,407   51.4746; -0.3680    51.4746   \n18               Islington   5.74    215,667   51.5416; -0.1022    51.5416   \n19  Kensington and Chelsea   4.68    155,594   51.5020; -0.1947    51.5020   \n20    Kingston upon Thames  14.38    166,793   51.4085; -0.3064    51.4085   \n21                 Lambeth  10.36    314,242   51.4607; -0.1163    51.4607   \n22                Lewisham  13.57    286,180   51.4452; -0.0209    51.4452   \n23                  Merton  14.52    203,223   51.4014; -0.1958    51.4014   \n24                  Newham  13.98    318,227    51.5077; 0.0469    51.5077   \n25               Redbridge  21.78    288,272    51.5590; 0.0741    51.5590   \n26    Richmond upon Thames  22.17    191,365   51.4479; -0.3260    51.4479   \n27               Southwark  11.14    298,464   51.5035; -0.0804    51.5035   \n28                  Sutton  16.93    195,914   51.3618; -0.1945    51.3618   \n29           Tower Hamlets   7.63    272,890   51.5099; -0.0059    51.5099   \n30          Waltham Forest  14.99    265,797   51.5908; -0.0134    51.5908   \n31              Wandsworth  13.23    310,516   51.4567; -0.1910    51.4567   \n32             Westminster   8.29    226,841   51.4973; -0.1372    51.4973   \n\n    Longitude  \n1     0.1557   \n2    -0.1517   \n3     0.1505   \n4    -0.2817   \n5     0.0198   \n6    -0.1255   \n7    -0.0977   \n8    -0.3089   \n9    -0.0799   \n10    0.0648   \n11   -0.0553   \n12   -0.2339   \n13   -0.1119   \n14   -0.3346   \n15    0.1837   \n16   -0.4760   \n17   -0.3680   \n18   -0.1022   \n19   -0.1947   \n20   -0.3064   \n21   -0.1163   \n22   -0.0209   \n23   -0.1958   \n24    0.0469   \n25    0.0741   \n26   -0.3260   \n27   -0.0804   \n28   -0.1945   \n29   -0.0059   \n30   -0.0134   \n31   -0.1910   \n32   -0.1372   ",
      "text/html": "<div>\n<style scoped>\n    .dataframe tbody tr th:only-of-type {\n        vertical-align: middle;\n    }\n\n    .dataframe tbody tr th {\n        vertical-align: top;\n    }\n\n    .dataframe thead th {\n        text-align: right;\n    }\n</style>\n<table border=\"1\" class=\"dataframe\">\n  <thead>\n    <tr style=\"text-align: right;\">\n      <th></th>\n      <th>Borough</th>\n      <th>Area</th>\n      <th>Population</th>\n      <th>Coordinates</th>\n      <th>Latitude</th>\n      <th>Longitude</th>\n    </tr>\n  </thead>\n  <tbody>\n    <tr>\n      <th>1</th>\n      <td>Barking and Dagenham</td>\n      <td>13.93</td>\n      <td>194,352</td>\n      <td>51.5607; 0.1557</td>\n      <td>51.5607</td>\n      <td>0.1557</td>\n    </tr>\n    <tr>\n      <th>2</th>\n      <td>Barnet</td>\n      <td>33.49</td>\n      <td>369,088</td>\n      <td>51.6252; -0.1517</td>\n      <td>51.6252</td>\n      <td>-0.1517</td>\n    </tr>\n    <tr>\n      <th>3</th>\n      <td>Bexley</td>\n      <td>23.38</td>\n      <td>236,687</td>\n      <td>51.4549; 0.1505</td>\n      <td>51.4549</td>\n      <td>0.1505</td>\n    </tr>\n    <tr>\n      <th>4</th>\n      <td>Brent</td>\n      <td>16.70</td>\n      <td>317,264</td>\n      <td>51.5588; -0.2817</td>\n      <td>51.5588</td>\n      <td>-0.2817</td>\n    </tr>\n    <tr>\n      <th>5</th>\n      <td>Bromley</td>\n      <td>57.97</td>\n      <td>317,899</td>\n      <td>51.4039; 0.0198</td>\n      <td>51.4039</td>\n      <td>0.0198</td>\n    </tr>\n    <tr>\n      <th>6</th>\n      <td>Camden</td>\n      <td>8.40</td>\n      <td>229,719</td>\n      <td>51.5290; -0.1255</td>\n      <td>51.5290</td>\n      <td>-0.1255</td>\n    </tr>\n    <tr>\n      <th>7</th>\n      <td>Croydon</td>\n      <td>33.41</td>\n      <td>372,752</td>\n      <td>51.3714; -0.0977</td>\n      <td>51.3714</td>\n      <td>-0.0977</td>\n    </tr>\n    <tr>\n      <th>8</th>\n      <td>Ealing</td>\n      <td>21.44</td>\n      <td>342,494</td>\n      <td>51.5130; -0.3089</td>\n      <td>51.5130</td>\n      <td>-0.3089</td>\n    </tr>\n    <tr>\n      <th>9</th>\n      <td>Enfield</td>\n      <td>31.74</td>\n      <td>320,524</td>\n      <td>51.6538; -0.0799</td>\n      <td>51.6538</td>\n      <td>-0.0799</td>\n    </tr>\n    <tr>\n      <th>10</th>\n      <td>Greenwich</td>\n      <td>18.28</td>\n      <td>264,008</td>\n      <td>51.4892; 0.0648</td>\n      <td>51.4892</td>\n      <td>0.0648</td>\n    </tr>\n    <tr>\n      <th>11</th>\n      <td>Hackney</td>\n      <td>7.36</td>\n      <td>257,379</td>\n      <td>51.5450; -0.0553</td>\n      <td>51.5450</td>\n      <td>-0.0553</td>\n    </tr>\n    <tr>\n      <th>12</th>\n      <td>Hammersmith and Fulham</td>\n      <td>6.33</td>\n      <td>178,685</td>\n      <td>51.4927; -0.2339</td>\n      <td>51.4927</td>\n      <td>-0.2339</td>\n    </tr>\n    <tr>\n      <th>13</th>\n      <td>Haringey</td>\n      <td>11.42</td>\n      <td>263,386</td>\n      <td>51.6000; -0.1119</td>\n      <td>51.6000</td>\n      <td>-0.1119</td>\n    </tr>\n    <tr>\n      <th>14</th>\n      <td>Harrow</td>\n      <td>19.49</td>\n      <td>243,372</td>\n      <td>51.5898; -0.3346</td>\n      <td>51.5898</td>\n      <td>-0.3346</td>\n    </tr>\n    <tr>\n      <th>15</th>\n      <td>Havering</td>\n      <td>43.35</td>\n      <td>242,080</td>\n      <td>51.5812; 0.1837</td>\n      <td>51.5812</td>\n      <td>0.1837</td>\n    </tr>\n    <tr>\n      <th>16</th>\n      <td>Hillingdon</td>\n      <td>44.67</td>\n      <td>286,806</td>\n      <td>51.5441; -0.4760</td>\n      <td>51.5441</td>\n      <td>-0.4760</td>\n    </tr>\n    <tr>\n      <th>17</th>\n      <td>Hounslow</td>\n      <td>21.61</td>\n      <td>262,407</td>\n      <td>51.4746; -0.3680</td>\n      <td>51.4746</td>\n      <td>-0.3680</td>\n    </tr>\n    <tr>\n      <th>18</th>\n      <td>Islington</td>\n      <td>5.74</td>\n      <td>215,667</td>\n      <td>51.5416; -0.1022</td>\n      <td>51.5416</td>\n      <td>-0.1022</td>\n    </tr>\n    <tr>\n      <th>19</th>\n      <td>Kensington and Chelsea</td>\n      <td>4.68</td>\n      <td>155,594</td>\n      <td>51.5020; -0.1947</td>\n      <td>51.5020</td>\n      <td>-0.1947</td>\n    </tr>\n    <tr>\n      <th>20</th>\n      <td>Kingston upon Thames</td>\n      <td>14.38</td>\n      <td>166,793</td>\n      <td>51.4085; -0.3064</td>\n      <td>51.4085</td>\n      <td>-0.3064</td>\n    </tr>\n    <tr>\n      <th>21</th>\n      <td>Lambeth</td>\n      <td>10.36</td>\n      <td>314,242</td>\n      <td>51.4607; -0.1163</td>\n      <td>51.4607</td>\n      <td>-0.1163</td>\n    </tr>\n    <tr>\n      <th>22</th>\n      <td>Lewisham</td>\n      <td>13.57</td>\n      <td>286,180</td>\n      <td>51.4452; -0.0209</td>\n      <td>51.4452</td>\n      <td>-0.0209</td>\n    </tr>\n    <tr>\n      <th>23</th>\n      <td>Merton</td>\n      <td>14.52</td>\n      <td>203,223</td>\n      <td>51.4014; -0.1958</td>\n      <td>51.4014</td>\n      <td>-0.1958</td>\n    </tr>\n    <tr>\n      <th>24</th>\n      <td>Newham</td>\n      <td>13.98</td>\n      <td>318,227</td>\n      <td>51.5077; 0.0469</td>\n      <td>51.5077</td>\n      <td>0.0469</td>\n    </tr>\n    <tr>\n      <th>25</th>\n      <td>Redbridge</td>\n      <td>21.78</td>\n      <td>288,272</td>\n      <td>51.5590; 0.0741</td>\n      <td>51.5590</td>\n      <td>0.0741</td>\n    </tr>\n    <tr>\n      <th>26</th>\n      <td>Richmond upon Thames</td>\n      <td>22.17</td>\n      <td>191,365</td>\n      <td>51.4479; -0.3260</td>\n      <td>51.4479</td>\n      <td>-0.3260</td>\n    </tr>\n    <tr>\n      <th>27</th>\n      <td>Southwark</td>\n      <td>11.14</td>\n      <td>298,464</td>\n      <td>51.5035; -0.0804</td>\n      <td>51.5035</td>\n      <td>-0.0804</td>\n    </tr>\n    <tr>\n      <th>28</th>\n      <td>Sutton</td>\n      <td>16.93</td>\n      <td>195,914</td>\n      <td>51.3618; -0.1945</td>\n      <td>51.3618</td>\n      <td>-0.1945</td>\n    </tr>\n    <tr>\n      <th>29</th>\n      <td>Tower Hamlets</td>\n      <td>7.63</td>\n      <td>272,890</td>\n      <td>51.5099; -0.0059</td>\n      <td>51.5099</td>\n      <td>-0.0059</td>\n    </tr>\n    <tr>\n      <th>30</th>\n      <td>Waltham Forest</td>\n      <td>14.99</td>\n      <td>265,797</td>\n      <td>51.5908; -0.0134</td>\n      <td>51.5908</td>\n      <td>-0.0134</td>\n    </tr>\n    <tr>\n      <th>31</th>\n      <td>Wandsworth</td>\n      <td>13.23</td>\n      <td>310,516</td>\n      <td>51.4567; -0.1910</td>\n      <td>51.4567</td>\n      <td>-0.1910</td>\n    </tr>\n    <tr>\n      <th>32</th>\n      <td>Westminster</td>\n      <td>8.29</td>\n      <td>226,841</td>\n      <td>51.4973; -0.1372</td>\n      <td>51.4973</td>\n      <td>-0.1372</td>\n    </tr>\n  </tbody>\n</table>\n</div>"
     },
     "metadata": {},
     "execution_count": 8
    }
   ],
   "source": [
    "# Remove note from Borough name\n",
    "dfLondon.Borough.replace(regex=r' \\[note \\d]', value = \"\", inplace=True) \n",
    "\n",
    "# Only keep the central set of co-ordinates\n",
    "dfLondon.Coordinates.replace(regex=r'^(.*?)\\/(.*?)\\/',value=\"\", inplace=True)\n",
    "dfLondon.Coordinates.replace(regex=r'\\((.*?)\\)$',value=r'', inplace=True)\n",
    "\n",
    "# Split the Coordinates\n",
    "dfLondon['Latitude'], dfLondon['Longitude'] = dfLondon['Coordinates'].str.split(';', 1).str\n",
    "dfLondon"
   ]
  },
  {
   "cell_type": "code",
   "execution_count": 9,
   "metadata": {
    "tags": []
   },
   "outputs": [
    {
     "output_type": "stream",
     "name": "stdout",
     "text": "\n Original Data Types\n"
    },
    {
     "output_type": "display_data",
     "data": {
      "text/plain": "Borough        object\nArea           object\nPopulation     object\nCoordinates    object\nLatitude       object\nLongitude      object\ndtype: object"
     },
     "metadata": {}
    },
    {
     "output_type": "stream",
     "name": "stdout",
     "text": "\n Converted Data Types\n"
    },
    {
     "output_type": "display_data",
     "data": {
      "text/plain": "Borough         object\nArea           float64\nPopulation       int64\nCoordinates     object\nLatitude       float64\nLongitude      float64\ndtype: object"
     },
     "metadata": {}
    },
    {
     "output_type": "stream",
     "name": "stdout",
     "text": "\nNow we can add a density column\n\nLet's also calculate a radius so we can get a more accurate picture of locality\n\nWe will use the area to calculate a circular radius from the boroughs central co-ordinates\n"
    },
    {
     "output_type": "display_data",
     "data": {
      "text/plain": "                   Borough   Area  Population         Coordinates  Latitude  \\\n0     Barking and Dagenham  13.93      194352    51.5607; 0.1557    51.5607   \n1                   Barnet  33.49      369088   51.6252; -0.1517    51.6252   \n2                   Bexley  23.38      236687    51.4549; 0.1505    51.4549   \n3                    Brent  16.70      317264   51.5588; -0.2817    51.5588   \n4                  Bromley  57.97      317899    51.4039; 0.0198    51.4039   \n5                   Camden   8.40      229719   51.5290; -0.1255    51.5290   \n6                  Croydon  33.41      372752   51.3714; -0.0977    51.3714   \n7                   Ealing  21.44      342494   51.5130; -0.3089    51.5130   \n8                  Enfield  31.74      320524   51.6538; -0.0799    51.6538   \n9                Greenwich  18.28      264008    51.4892; 0.0648    51.4892   \n10                 Hackney   7.36      257379   51.5450; -0.0553    51.5450   \n11  Hammersmith and Fulham   6.33      178685   51.4927; -0.2339    51.4927   \n12                Haringey  11.42      263386   51.6000; -0.1119    51.6000   \n13                  Harrow  19.49      243372   51.5898; -0.3346    51.5898   \n14                Havering  43.35      242080    51.5812; 0.1837    51.5812   \n15              Hillingdon  44.67      286806   51.5441; -0.4760    51.5441   \n16                Hounslow  21.61      262407   51.4746; -0.3680    51.4746   \n17               Islington   5.74      215667   51.5416; -0.1022    51.5416   \n18  Kensington and Chelsea   4.68      155594   51.5020; -0.1947    51.5020   \n19    Kingston upon Thames  14.38      166793   51.4085; -0.3064    51.4085   \n20                 Lambeth  10.36      314242   51.4607; -0.1163    51.4607   \n21                Lewisham  13.57      286180   51.4452; -0.0209    51.4452   \n22                  Merton  14.52      203223   51.4014; -0.1958    51.4014   \n23                  Newham  13.98      318227    51.5077; 0.0469    51.5077   \n24               Redbridge  21.78      288272    51.5590; 0.0741    51.5590   \n25    Richmond upon Thames  22.17      191365   51.4479; -0.3260    51.4479   \n26               Southwark  11.14      298464   51.5035; -0.0804    51.5035   \n27                  Sutton  16.93      195914   51.3618; -0.1945    51.3618   \n28           Tower Hamlets   7.63      272890   51.5099; -0.0059    51.5099   \n29          Waltham Forest  14.99      265797   51.5908; -0.0134    51.5908   \n30              Wandsworth  13.23      310516   51.4567; -0.1910    51.4567   \n31             Westminster   8.29      226841   51.4973; -0.1372    51.4973   \n\n    Longitude   Density       Radius  \n0      0.1557  13952.05  3242.808799  \n1     -0.1517  11020.84  5028.093653  \n2      0.1505  10123.48  4201.148547  \n3     -0.2817  18997.84  3550.618569  \n4      0.0198   5483.85  6615.267871  \n5     -0.1255  27347.50  2518.172214  \n6     -0.0977  11156.90  5022.084576  \n7     -0.3089  15974.53  4023.075426  \n8     -0.0799  10098.42  4894.961110  \n9      0.0648  14442.45  3714.786685  \n10    -0.0553  34969.97  2357.136276  \n11    -0.2339  28228.28  2185.987325  \n12    -0.1119  23063.57  2936.154041  \n13    -0.3346  12487.02  3835.762456  \n14     0.1837   5584.31  5720.583583  \n15    -0.4760   6420.55  5807.025869  \n16    -0.3680  12142.85  4038.993627  \n17    -0.1022  37572.65  2081.621336  \n18    -0.1947  33246.58  1879.614173  \n19    -0.3064  11598.96  3294.770945  \n20    -0.1163  30332.24  2796.569792  \n21    -0.0209  21089.17  3200.631744  \n22    -0.1958  13996.07  3310.770621  \n23     0.0469  22763.02  3248.623415  \n24     0.0741  13235.63  4054.849338  \n25    -0.3260   8631.71  4090.992008  \n26    -0.0804  26792.10  2899.935777  \n27    -0.1945  11572.00  3574.985326  \n28    -0.0059  35765.40  2399.982381  \n29    -0.0134  17731.62  3363.927296  \n30    -0.1910  23470.60  3160.281047  \n31    -0.1372  27363.21  2501.629847  ",
      "text/html": "<div>\n<style scoped>\n    .dataframe tbody tr th:only-of-type {\n        vertical-align: middle;\n    }\n\n    .dataframe tbody tr th {\n        vertical-align: top;\n    }\n\n    .dataframe thead th {\n        text-align: right;\n    }\n</style>\n<table border=\"1\" class=\"dataframe\">\n  <thead>\n    <tr style=\"text-align: right;\">\n      <th></th>\n      <th>Borough</th>\n      <th>Area</th>\n      <th>Population</th>\n      <th>Coordinates</th>\n      <th>Latitude</th>\n      <th>Longitude</th>\n      <th>Density</th>\n      <th>Radius</th>\n    </tr>\n  </thead>\n  <tbody>\n    <tr>\n      <th>0</th>\n      <td>Barking and Dagenham</td>\n      <td>13.93</td>\n      <td>194352</td>\n      <td>51.5607; 0.1557</td>\n      <td>51.5607</td>\n      <td>0.1557</td>\n      <td>13952.05</td>\n      <td>3242.808799</td>\n    </tr>\n    <tr>\n      <th>1</th>\n      <td>Barnet</td>\n      <td>33.49</td>\n      <td>369088</td>\n      <td>51.6252; -0.1517</td>\n      <td>51.6252</td>\n      <td>-0.1517</td>\n      <td>11020.84</td>\n      <td>5028.093653</td>\n    </tr>\n    <tr>\n      <th>2</th>\n      <td>Bexley</td>\n      <td>23.38</td>\n      <td>236687</td>\n      <td>51.4549; 0.1505</td>\n      <td>51.4549</td>\n      <td>0.1505</td>\n      <td>10123.48</td>\n      <td>4201.148547</td>\n    </tr>\n    <tr>\n      <th>3</th>\n      <td>Brent</td>\n      <td>16.70</td>\n      <td>317264</td>\n      <td>51.5588; -0.2817</td>\n      <td>51.5588</td>\n      <td>-0.2817</td>\n      <td>18997.84</td>\n      <td>3550.618569</td>\n    </tr>\n    <tr>\n      <th>4</th>\n      <td>Bromley</td>\n      <td>57.97</td>\n      <td>317899</td>\n      <td>51.4039; 0.0198</td>\n      <td>51.4039</td>\n      <td>0.0198</td>\n      <td>5483.85</td>\n      <td>6615.267871</td>\n    </tr>\n    <tr>\n      <th>5</th>\n      <td>Camden</td>\n      <td>8.40</td>\n      <td>229719</td>\n      <td>51.5290; -0.1255</td>\n      <td>51.5290</td>\n      <td>-0.1255</td>\n      <td>27347.50</td>\n      <td>2518.172214</td>\n    </tr>\n    <tr>\n      <th>6</th>\n      <td>Croydon</td>\n      <td>33.41</td>\n      <td>372752</td>\n      <td>51.3714; -0.0977</td>\n      <td>51.3714</td>\n      <td>-0.0977</td>\n      <td>11156.90</td>\n      <td>5022.084576</td>\n    </tr>\n    <tr>\n      <th>7</th>\n      <td>Ealing</td>\n      <td>21.44</td>\n      <td>342494</td>\n      <td>51.5130; -0.3089</td>\n      <td>51.5130</td>\n      <td>-0.3089</td>\n      <td>15974.53</td>\n      <td>4023.075426</td>\n    </tr>\n    <tr>\n      <th>8</th>\n      <td>Enfield</td>\n      <td>31.74</td>\n      <td>320524</td>\n      <td>51.6538; -0.0799</td>\n      <td>51.6538</td>\n      <td>-0.0799</td>\n      <td>10098.42</td>\n      <td>4894.961110</td>\n    </tr>\n    <tr>\n      <th>9</th>\n      <td>Greenwich</td>\n      <td>18.28</td>\n      <td>264008</td>\n      <td>51.4892; 0.0648</td>\n      <td>51.4892</td>\n      <td>0.0648</td>\n      <td>14442.45</td>\n      <td>3714.786685</td>\n    </tr>\n    <tr>\n      <th>10</th>\n      <td>Hackney</td>\n      <td>7.36</td>\n      <td>257379</td>\n      <td>51.5450; -0.0553</td>\n      <td>51.5450</td>\n      <td>-0.0553</td>\n      <td>34969.97</td>\n      <td>2357.136276</td>\n    </tr>\n    <tr>\n      <th>11</th>\n      <td>Hammersmith and Fulham</td>\n      <td>6.33</td>\n      <td>178685</td>\n      <td>51.4927; -0.2339</td>\n      <td>51.4927</td>\n      <td>-0.2339</td>\n      <td>28228.28</td>\n      <td>2185.987325</td>\n    </tr>\n    <tr>\n      <th>12</th>\n      <td>Haringey</td>\n      <td>11.42</td>\n      <td>263386</td>\n      <td>51.6000; -0.1119</td>\n      <td>51.6000</td>\n      <td>-0.1119</td>\n      <td>23063.57</td>\n      <td>2936.154041</td>\n    </tr>\n    <tr>\n      <th>13</th>\n      <td>Harrow</td>\n      <td>19.49</td>\n      <td>243372</td>\n      <td>51.5898; -0.3346</td>\n      <td>51.5898</td>\n      <td>-0.3346</td>\n      <td>12487.02</td>\n      <td>3835.762456</td>\n    </tr>\n    <tr>\n      <th>14</th>\n      <td>Havering</td>\n      <td>43.35</td>\n      <td>242080</td>\n      <td>51.5812; 0.1837</td>\n      <td>51.5812</td>\n      <td>0.1837</td>\n      <td>5584.31</td>\n      <td>5720.583583</td>\n    </tr>\n    <tr>\n      <th>15</th>\n      <td>Hillingdon</td>\n      <td>44.67</td>\n      <td>286806</td>\n      <td>51.5441; -0.4760</td>\n      <td>51.5441</td>\n      <td>-0.4760</td>\n      <td>6420.55</td>\n      <td>5807.025869</td>\n    </tr>\n    <tr>\n      <th>16</th>\n      <td>Hounslow</td>\n      <td>21.61</td>\n      <td>262407</td>\n      <td>51.4746; -0.3680</td>\n      <td>51.4746</td>\n      <td>-0.3680</td>\n      <td>12142.85</td>\n      <td>4038.993627</td>\n    </tr>\n    <tr>\n      <th>17</th>\n      <td>Islington</td>\n      <td>5.74</td>\n      <td>215667</td>\n      <td>51.5416; -0.1022</td>\n      <td>51.5416</td>\n      <td>-0.1022</td>\n      <td>37572.65</td>\n      <td>2081.621336</td>\n    </tr>\n    <tr>\n      <th>18</th>\n      <td>Kensington and Chelsea</td>\n      <td>4.68</td>\n      <td>155594</td>\n      <td>51.5020; -0.1947</td>\n      <td>51.5020</td>\n      <td>-0.1947</td>\n      <td>33246.58</td>\n      <td>1879.614173</td>\n    </tr>\n    <tr>\n      <th>19</th>\n      <td>Kingston upon Thames</td>\n      <td>14.38</td>\n      <td>166793</td>\n      <td>51.4085; -0.3064</td>\n      <td>51.4085</td>\n      <td>-0.3064</td>\n      <td>11598.96</td>\n      <td>3294.770945</td>\n    </tr>\n    <tr>\n      <th>20</th>\n      <td>Lambeth</td>\n      <td>10.36</td>\n      <td>314242</td>\n      <td>51.4607; -0.1163</td>\n      <td>51.4607</td>\n      <td>-0.1163</td>\n      <td>30332.24</td>\n      <td>2796.569792</td>\n    </tr>\n    <tr>\n      <th>21</th>\n      <td>Lewisham</td>\n      <td>13.57</td>\n      <td>286180</td>\n      <td>51.4452; -0.0209</td>\n      <td>51.4452</td>\n      <td>-0.0209</td>\n      <td>21089.17</td>\n      <td>3200.631744</td>\n    </tr>\n    <tr>\n      <th>22</th>\n      <td>Merton</td>\n      <td>14.52</td>\n      <td>203223</td>\n      <td>51.4014; -0.1958</td>\n      <td>51.4014</td>\n      <td>-0.1958</td>\n      <td>13996.07</td>\n      <td>3310.770621</td>\n    </tr>\n    <tr>\n      <th>23</th>\n      <td>Newham</td>\n      <td>13.98</td>\n      <td>318227</td>\n      <td>51.5077; 0.0469</td>\n      <td>51.5077</td>\n      <td>0.0469</td>\n      <td>22763.02</td>\n      <td>3248.623415</td>\n    </tr>\n    <tr>\n      <th>24</th>\n      <td>Redbridge</td>\n      <td>21.78</td>\n      <td>288272</td>\n      <td>51.5590; 0.0741</td>\n      <td>51.5590</td>\n      <td>0.0741</td>\n      <td>13235.63</td>\n      <td>4054.849338</td>\n    </tr>\n    <tr>\n      <th>25</th>\n      <td>Richmond upon Thames</td>\n      <td>22.17</td>\n      <td>191365</td>\n      <td>51.4479; -0.3260</td>\n      <td>51.4479</td>\n      <td>-0.3260</td>\n      <td>8631.71</td>\n      <td>4090.992008</td>\n    </tr>\n    <tr>\n      <th>26</th>\n      <td>Southwark</td>\n      <td>11.14</td>\n      <td>298464</td>\n      <td>51.5035; -0.0804</td>\n      <td>51.5035</td>\n      <td>-0.0804</td>\n      <td>26792.10</td>\n      <td>2899.935777</td>\n    </tr>\n    <tr>\n      <th>27</th>\n      <td>Sutton</td>\n      <td>16.93</td>\n      <td>195914</td>\n      <td>51.3618; -0.1945</td>\n      <td>51.3618</td>\n      <td>-0.1945</td>\n      <td>11572.00</td>\n      <td>3574.985326</td>\n    </tr>\n    <tr>\n      <th>28</th>\n      <td>Tower Hamlets</td>\n      <td>7.63</td>\n      <td>272890</td>\n      <td>51.5099; -0.0059</td>\n      <td>51.5099</td>\n      <td>-0.0059</td>\n      <td>35765.40</td>\n      <td>2399.982381</td>\n    </tr>\n    <tr>\n      <th>29</th>\n      <td>Waltham Forest</td>\n      <td>14.99</td>\n      <td>265797</td>\n      <td>51.5908; -0.0134</td>\n      <td>51.5908</td>\n      <td>-0.0134</td>\n      <td>17731.62</td>\n      <td>3363.927296</td>\n    </tr>\n    <tr>\n      <th>30</th>\n      <td>Wandsworth</td>\n      <td>13.23</td>\n      <td>310516</td>\n      <td>51.4567; -0.1910</td>\n      <td>51.4567</td>\n      <td>-0.1910</td>\n      <td>23470.60</td>\n      <td>3160.281047</td>\n    </tr>\n    <tr>\n      <th>31</th>\n      <td>Westminster</td>\n      <td>8.29</td>\n      <td>226841</td>\n      <td>51.4973; -0.1372</td>\n      <td>51.4973</td>\n      <td>-0.1372</td>\n      <td>27363.21</td>\n      <td>2501.629847</td>\n    </tr>\n  </tbody>\n</table>\n</div>"
     },
     "metadata": {}
    }
   ],
   "source": [
    "import numpy as np\n",
    "print(\"\\n Original Data Types\")\n",
    "display(dfLondon.dtypes)\n",
    "\n",
    "dfLondon.Area = dfLondon.Area.astype(float)\n",
    "\n",
    "#Remove commas from population otherwise we struggle to convert to float\n",
    "dfLondon.Population.replace(regex=r'\\,', value = \"\", inplace=True)\n",
    "dfLondon.Population = dfLondon.Population.astype(int)\n",
    "dfLondon.Latitude = dfLondon.Latitude.astype(float)\n",
    "dfLondon.Longitude = dfLondon.Longitude.astype(float)\n",
    "\n",
    "print(\"\\n Converted Data Types\")\n",
    "display(dfLondon.dtypes)\n",
    "\n",
    "print(\"\\nLet's also calculate a radius so we can get a more accurate picture of locality\")\n",
    "print(\"\\nWe will use the area to calculate a circular radius from the boroughs central co-ordinates\")\n",
    "dfLondon['Radius'] = (np.sqrt((dfLondon.Area/np.pi))*1540)\n",
    "\n",
    "# We need to reset the index as the first entry was column names\n",
    "dfLondon.reset_index(drop=True, inplace=True)\n",
    "\n",
    "display(dfLondon)"
   ]
  },
  {
   "cell_type": "code",
   "execution_count": 10,
   "metadata": {},
   "outputs": [
    {
     "output_type": "execute_result",
     "data": {
      "text/plain": "                   Borough   Area  Population         Coordinates  Latitude  \\\n0     Barking and Dagenham  13.93      194352    51.5607; 0.1557    51.5607   \n1                   Barnet  33.49      369088   51.6252; -0.1517    51.6252   \n2                   Bexley  23.38      236687    51.4549; 0.1505    51.4549   \n3                    Brent  16.70      317264   51.5588; -0.2817    51.5588   \n4                  Bromley  57.97      317899    51.4039; 0.0198    51.4039   \n5                   Camden   8.40      229719   51.5290; -0.1255    51.5290   \n6                  Croydon  33.41      372752   51.3714; -0.0977    51.3714   \n7                   Ealing  21.44      342494   51.5130; -0.3089    51.5130   \n8                  Enfield  31.74      320524   51.6538; -0.0799    51.6538   \n9                Greenwich  18.28      264008    51.4892; 0.0648    51.4892   \n10                 Hackney   7.36      257379   51.5450; -0.0553    51.5450   \n11  Hammersmith and Fulham   6.33      178685   51.4927; -0.2339    51.4927   \n12                Haringey  11.42      263386   51.6000; -0.1119    51.6000   \n13                  Harrow  19.49      243372   51.5898; -0.3346    51.5898   \n14                Havering  43.35      242080    51.5812; 0.1837    51.5812   \n15              Hillingdon  44.67      286806   51.5441; -0.4760    51.5441   \n16                Hounslow  21.61      262407   51.4746; -0.3680    51.4746   \n17               Islington   5.74      215667   51.5416; -0.1022    51.5416   \n18  Kensington and Chelsea   4.68      155594   51.5020; -0.1947    51.5020   \n19    Kingston upon Thames  14.38      166793   51.4085; -0.3064    51.4085   \n20                 Lambeth  10.36      314242   51.4607; -0.1163    51.4607   \n21                Lewisham  13.57      286180   51.4452; -0.0209    51.4452   \n22                  Merton  14.52      203223   51.4014; -0.1958    51.4014   \n23                  Newham  13.98      318227    51.5077; 0.0469    51.5077   \n24               Redbridge  21.78      288272    51.5590; 0.0741    51.5590   \n25    Richmond upon Thames  22.17      191365   51.4479; -0.3260    51.4479   \n26               Southwark  11.14      298464   51.5035; -0.0804    51.5035   \n27                  Sutton  16.93      195914   51.3618; -0.1945    51.3618   \n28           Tower Hamlets   7.63      272890   51.5099; -0.0059    51.5099   \n29          Waltham Forest  14.99      265797   51.5908; -0.0134    51.5908   \n30              Wandsworth  13.23      310516   51.4567; -0.1910    51.4567   \n31             Westminster   8.29      226841   51.4973; -0.1372    51.4973   \n\n    Longitude   Density       Radius  \n0      0.1557  13952.05  3242.808799  \n1     -0.1517  11020.84  5028.093653  \n2      0.1505  10123.48  4201.148547  \n3     -0.2817  18997.84  3550.618569  \n4      0.0198   5483.85  6615.267871  \n5     -0.1255  27347.50  2518.172214  \n6     -0.0977  11156.90  5022.084576  \n7     -0.3089  15974.53  4023.075426  \n8     -0.0799  10098.42  4894.961110  \n9      0.0648  14442.45  3714.786685  \n10    -0.0553  34969.97  2357.136276  \n11    -0.2339  28228.28  2185.987325  \n12    -0.1119  23063.57  2936.154041  \n13    -0.3346  12487.02  3835.762456  \n14     0.1837   5584.31  5720.583583  \n15    -0.4760   6420.55  5807.025869  \n16    -0.3680  12142.85  4038.993627  \n17    -0.1022  37572.65  2081.621336  \n18    -0.1947  33246.58  1879.614173  \n19    -0.3064  11598.96  3294.770945  \n20    -0.1163  30332.24  2796.569792  \n21    -0.0209  21089.17  3200.631744  \n22    -0.1958  13996.07  3310.770621  \n23     0.0469  22763.02  3248.623415  \n24     0.0741  13235.63  4054.849338  \n25    -0.3260   8631.71  4090.992008  \n26    -0.0804  26792.10  2899.935777  \n27    -0.1945  11572.00  3574.985326  \n28    -0.0059  35765.40  2399.982381  \n29    -0.0134  17731.62  3363.927296  \n30    -0.1910  23470.60  3160.281047  \n31    -0.1372  27363.21  2501.629847  ",
      "text/html": "<div>\n<style scoped>\n    .dataframe tbody tr th:only-of-type {\n        vertical-align: middle;\n    }\n\n    .dataframe tbody tr th {\n        vertical-align: top;\n    }\n\n    .dataframe thead th {\n        text-align: right;\n    }\n</style>\n<table border=\"1\" class=\"dataframe\">\n  <thead>\n    <tr style=\"text-align: right;\">\n      <th></th>\n      <th>Borough</th>\n      <th>Area</th>\n      <th>Population</th>\n      <th>Coordinates</th>\n      <th>Latitude</th>\n      <th>Longitude</th>\n      <th>Density</th>\n      <th>Radius</th>\n    </tr>\n  </thead>\n  <tbody>\n    <tr>\n      <th>0</th>\n      <td>Barking and Dagenham</td>\n      <td>13.93</td>\n      <td>194352</td>\n      <td>51.5607; 0.1557</td>\n      <td>51.5607</td>\n      <td>0.1557</td>\n      <td>13952.05</td>\n      <td>3242.808799</td>\n    </tr>\n    <tr>\n      <th>1</th>\n      <td>Barnet</td>\n      <td>33.49</td>\n      <td>369088</td>\n      <td>51.6252; -0.1517</td>\n      <td>51.6252</td>\n      <td>-0.1517</td>\n      <td>11020.84</td>\n      <td>5028.093653</td>\n    </tr>\n    <tr>\n      <th>2</th>\n      <td>Bexley</td>\n      <td>23.38</td>\n      <td>236687</td>\n      <td>51.4549; 0.1505</td>\n      <td>51.4549</td>\n      <td>0.1505</td>\n      <td>10123.48</td>\n      <td>4201.148547</td>\n    </tr>\n    <tr>\n      <th>3</th>\n      <td>Brent</td>\n      <td>16.70</td>\n      <td>317264</td>\n      <td>51.5588; -0.2817</td>\n      <td>51.5588</td>\n      <td>-0.2817</td>\n      <td>18997.84</td>\n      <td>3550.618569</td>\n    </tr>\n    <tr>\n      <th>4</th>\n      <td>Bromley</td>\n      <td>57.97</td>\n      <td>317899</td>\n      <td>51.4039; 0.0198</td>\n      <td>51.4039</td>\n      <td>0.0198</td>\n      <td>5483.85</td>\n      <td>6615.267871</td>\n    </tr>\n    <tr>\n      <th>5</th>\n      <td>Camden</td>\n      <td>8.40</td>\n      <td>229719</td>\n      <td>51.5290; -0.1255</td>\n      <td>51.5290</td>\n      <td>-0.1255</td>\n      <td>27347.50</td>\n      <td>2518.172214</td>\n    </tr>\n    <tr>\n      <th>6</th>\n      <td>Croydon</td>\n      <td>33.41</td>\n      <td>372752</td>\n      <td>51.3714; -0.0977</td>\n      <td>51.3714</td>\n      <td>-0.0977</td>\n      <td>11156.90</td>\n      <td>5022.084576</td>\n    </tr>\n    <tr>\n      <th>7</th>\n      <td>Ealing</td>\n      <td>21.44</td>\n      <td>342494</td>\n      <td>51.5130; -0.3089</td>\n      <td>51.5130</td>\n      <td>-0.3089</td>\n      <td>15974.53</td>\n      <td>4023.075426</td>\n    </tr>\n    <tr>\n      <th>8</th>\n      <td>Enfield</td>\n      <td>31.74</td>\n      <td>320524</td>\n      <td>51.6538; -0.0799</td>\n      <td>51.6538</td>\n      <td>-0.0799</td>\n      <td>10098.42</td>\n      <td>4894.961110</td>\n    </tr>\n    <tr>\n      <th>9</th>\n      <td>Greenwich</td>\n      <td>18.28</td>\n      <td>264008</td>\n      <td>51.4892; 0.0648</td>\n      <td>51.4892</td>\n      <td>0.0648</td>\n      <td>14442.45</td>\n      <td>3714.786685</td>\n    </tr>\n    <tr>\n      <th>10</th>\n      <td>Hackney</td>\n      <td>7.36</td>\n      <td>257379</td>\n      <td>51.5450; -0.0553</td>\n      <td>51.5450</td>\n      <td>-0.0553</td>\n      <td>34969.97</td>\n      <td>2357.136276</td>\n    </tr>\n    <tr>\n      <th>11</th>\n      <td>Hammersmith and Fulham</td>\n      <td>6.33</td>\n      <td>178685</td>\n      <td>51.4927; -0.2339</td>\n      <td>51.4927</td>\n      <td>-0.2339</td>\n      <td>28228.28</td>\n      <td>2185.987325</td>\n    </tr>\n    <tr>\n      <th>12</th>\n      <td>Haringey</td>\n      <td>11.42</td>\n      <td>263386</td>\n      <td>51.6000; -0.1119</td>\n      <td>51.6000</td>\n      <td>-0.1119</td>\n      <td>23063.57</td>\n      <td>2936.154041</td>\n    </tr>\n    <tr>\n      <th>13</th>\n      <td>Harrow</td>\n      <td>19.49</td>\n      <td>243372</td>\n      <td>51.5898; -0.3346</td>\n      <td>51.5898</td>\n      <td>-0.3346</td>\n      <td>12487.02</td>\n      <td>3835.762456</td>\n    </tr>\n    <tr>\n      <th>14</th>\n      <td>Havering</td>\n      <td>43.35</td>\n      <td>242080</td>\n      <td>51.5812; 0.1837</td>\n      <td>51.5812</td>\n      <td>0.1837</td>\n      <td>5584.31</td>\n      <td>5720.583583</td>\n    </tr>\n    <tr>\n      <th>15</th>\n      <td>Hillingdon</td>\n      <td>44.67</td>\n      <td>286806</td>\n      <td>51.5441; -0.4760</td>\n      <td>51.5441</td>\n      <td>-0.4760</td>\n      <td>6420.55</td>\n      <td>5807.025869</td>\n    </tr>\n    <tr>\n      <th>16</th>\n      <td>Hounslow</td>\n      <td>21.61</td>\n      <td>262407</td>\n      <td>51.4746; -0.3680</td>\n      <td>51.4746</td>\n      <td>-0.3680</td>\n      <td>12142.85</td>\n      <td>4038.993627</td>\n    </tr>\n    <tr>\n      <th>17</th>\n      <td>Islington</td>\n      <td>5.74</td>\n      <td>215667</td>\n      <td>51.5416; -0.1022</td>\n      <td>51.5416</td>\n      <td>-0.1022</td>\n      <td>37572.65</td>\n      <td>2081.621336</td>\n    </tr>\n    <tr>\n      <th>18</th>\n      <td>Kensington and Chelsea</td>\n      <td>4.68</td>\n      <td>155594</td>\n      <td>51.5020; -0.1947</td>\n      <td>51.5020</td>\n      <td>-0.1947</td>\n      <td>33246.58</td>\n      <td>1879.614173</td>\n    </tr>\n    <tr>\n      <th>19</th>\n      <td>Kingston upon Thames</td>\n      <td>14.38</td>\n      <td>166793</td>\n      <td>51.4085; -0.3064</td>\n      <td>51.4085</td>\n      <td>-0.3064</td>\n      <td>11598.96</td>\n      <td>3294.770945</td>\n    </tr>\n    <tr>\n      <th>20</th>\n      <td>Lambeth</td>\n      <td>10.36</td>\n      <td>314242</td>\n      <td>51.4607; -0.1163</td>\n      <td>51.4607</td>\n      <td>-0.1163</td>\n      <td>30332.24</td>\n      <td>2796.569792</td>\n    </tr>\n    <tr>\n      <th>21</th>\n      <td>Lewisham</td>\n      <td>13.57</td>\n      <td>286180</td>\n      <td>51.4452; -0.0209</td>\n      <td>51.4452</td>\n      <td>-0.0209</td>\n      <td>21089.17</td>\n      <td>3200.631744</td>\n    </tr>\n    <tr>\n      <th>22</th>\n      <td>Merton</td>\n      <td>14.52</td>\n      <td>203223</td>\n      <td>51.4014; -0.1958</td>\n      <td>51.4014</td>\n      <td>-0.1958</td>\n      <td>13996.07</td>\n      <td>3310.770621</td>\n    </tr>\n    <tr>\n      <th>23</th>\n      <td>Newham</td>\n      <td>13.98</td>\n      <td>318227</td>\n      <td>51.5077; 0.0469</td>\n      <td>51.5077</td>\n      <td>0.0469</td>\n      <td>22763.02</td>\n      <td>3248.623415</td>\n    </tr>\n    <tr>\n      <th>24</th>\n      <td>Redbridge</td>\n      <td>21.78</td>\n      <td>288272</td>\n      <td>51.5590; 0.0741</td>\n      <td>51.5590</td>\n      <td>0.0741</td>\n      <td>13235.63</td>\n      <td>4054.849338</td>\n    </tr>\n    <tr>\n      <th>25</th>\n      <td>Richmond upon Thames</td>\n      <td>22.17</td>\n      <td>191365</td>\n      <td>51.4479; -0.3260</td>\n      <td>51.4479</td>\n      <td>-0.3260</td>\n      <td>8631.71</td>\n      <td>4090.992008</td>\n    </tr>\n    <tr>\n      <th>26</th>\n      <td>Southwark</td>\n      <td>11.14</td>\n      <td>298464</td>\n      <td>51.5035; -0.0804</td>\n      <td>51.5035</td>\n      <td>-0.0804</td>\n      <td>26792.10</td>\n      <td>2899.935777</td>\n    </tr>\n    <tr>\n      <th>27</th>\n      <td>Sutton</td>\n      <td>16.93</td>\n      <td>195914</td>\n      <td>51.3618; -0.1945</td>\n      <td>51.3618</td>\n      <td>-0.1945</td>\n      <td>11572.00</td>\n      <td>3574.985326</td>\n    </tr>\n    <tr>\n      <th>28</th>\n      <td>Tower Hamlets</td>\n      <td>7.63</td>\n      <td>272890</td>\n      <td>51.5099; -0.0059</td>\n      <td>51.5099</td>\n      <td>-0.0059</td>\n      <td>35765.40</td>\n      <td>2399.982381</td>\n    </tr>\n    <tr>\n      <th>29</th>\n      <td>Waltham Forest</td>\n      <td>14.99</td>\n      <td>265797</td>\n      <td>51.5908; -0.0134</td>\n      <td>51.5908</td>\n      <td>-0.0134</td>\n      <td>17731.62</td>\n      <td>3363.927296</td>\n    </tr>\n    <tr>\n      <th>30</th>\n      <td>Wandsworth</td>\n      <td>13.23</td>\n      <td>310516</td>\n      <td>51.4567; -0.1910</td>\n      <td>51.4567</td>\n      <td>-0.1910</td>\n      <td>23470.60</td>\n      <td>3160.281047</td>\n    </tr>\n    <tr>\n      <th>31</th>\n      <td>Westminster</td>\n      <td>8.29</td>\n      <td>226841</td>\n      <td>51.4973; -0.1372</td>\n      <td>51.4973</td>\n      <td>-0.1372</td>\n      <td>27363.21</td>\n      <td>2501.629847</td>\n    </tr>\n  </tbody>\n</table>\n</div>"
     },
     "metadata": {},
     "execution_count": 10
    }
   ],
   "source": [
    "# Backup latest updates\n",
    "dfLondon.to_csv (r'dfLondon.csv',index = False, header = True)\n",
    "\n",
    "dfLondon = pd.read_csv(\"dfLondon.csv\")\n",
    "dfLondon"
   ]
  },
  {
   "cell_type": "markdown",
   "metadata": {},
   "source": [
    "## Download the Borough Boundaries\n"
   ]
  },
  {
   "cell_type": "code",
   "execution_count": 11,
   "metadata": {
    "tags": []
   },
   "outputs": [
    {
     "output_type": "stream",
     "name": "stdout",
     "text": " Download Progress 100 % \nFinished\n"
    }
   ],
   "source": [
    "url = \"https://skgrange.github.io/www/data/london_boroughs.json\"\n",
    "lclfile = \"geoData.json\"\n",
    "urllib.request.urlretrieve(url, lclfile, reporthook=Download_Progress)\n",
    "print (\" \\nFinished\")"
   ]
  },
  {
   "cell_type": "code",
   "execution_count": 12,
   "metadata": {},
   "outputs": [
    {
     "output_type": "execute_result",
     "data": {
      "text/plain": "                   Borough   Area  Population         Coordinates  Latitude  \\\n0     Barking and Dagenham  13.93      194352    51.5607; 0.1557    51.5607   \n1                   Barnet  33.49      369088   51.6252; -0.1517    51.6252   \n2                   Bexley  23.38      236687    51.4549; 0.1505    51.4549   \n3                    Brent  16.70      317264   51.5588; -0.2817    51.5588   \n4                  Bromley  57.97      317899    51.4039; 0.0198    51.4039   \n5                   Camden   8.40      229719   51.5290; -0.1255    51.5290   \n6                  Croydon  33.41      372752   51.3714; -0.0977    51.3714   \n7                   Ealing  21.44      342494   51.5130; -0.3089    51.5130   \n8                  Enfield  31.74      320524   51.6538; -0.0799    51.6538   \n9                Greenwich  18.28      264008    51.4892; 0.0648    51.4892   \n10                 Hackney   7.36      257379   51.5450; -0.0553    51.5450   \n11  Hammersmith and Fulham   6.33      178685   51.4927; -0.2339    51.4927   \n12                Haringey  11.42      263386   51.6000; -0.1119    51.6000   \n13                  Harrow  19.49      243372   51.5898; -0.3346    51.5898   \n14                Havering  43.35      242080    51.5812; 0.1837    51.5812   \n15              Hillingdon  44.67      286806   51.5441; -0.4760    51.5441   \n16                Hounslow  21.61      262407   51.4746; -0.3680    51.4746   \n17               Islington   5.74      215667   51.5416; -0.1022    51.5416   \n18  Kensington and Chelsea   4.68      155594   51.5020; -0.1947    51.5020   \n19    Kingston upon Thames  14.38      166793   51.4085; -0.3064    51.4085   \n20                 Lambeth  10.36      314242   51.4607; -0.1163    51.4607   \n21                Lewisham  13.57      286180   51.4452; -0.0209    51.4452   \n22                  Merton  14.52      203223   51.4014; -0.1958    51.4014   \n23                  Newham  13.98      318227    51.5077; 0.0469    51.5077   \n24               Redbridge  21.78      288272    51.5590; 0.0741    51.5590   \n25    Richmond upon Thames  22.17      191365   51.4479; -0.3260    51.4479   \n26               Southwark  11.14      298464   51.5035; -0.0804    51.5035   \n27                  Sutton  16.93      195914   51.3618; -0.1945    51.3618   \n28           Tower Hamlets   7.63      272890   51.5099; -0.0059    51.5099   \n29          Waltham Forest  14.99      265797   51.5908; -0.0134    51.5908   \n30              Wandsworth  13.23      310516   51.4567; -0.1910    51.4567   \n31             Westminster   8.29      226841   51.4973; -0.1372    51.4973   \n\n    Longitude   Density       Radius  \n0      0.1557  13952.05  3242.808799  \n1     -0.1517  11020.84  5028.093653  \n2      0.1505  10123.48  4201.148547  \n3     -0.2817  18997.84  3550.618569  \n4      0.0198   5483.85  6615.267871  \n5     -0.1255  27347.50  2518.172214  \n6     -0.0977  11156.90  5022.084576  \n7     -0.3089  15974.53  4023.075426  \n8     -0.0799  10098.42  4894.961110  \n9      0.0648  14442.45  3714.786685  \n10    -0.0553  34969.97  2357.136276  \n11    -0.2339  28228.28  2185.987325  \n12    -0.1119  23063.57  2936.154041  \n13    -0.3346  12487.02  3835.762456  \n14     0.1837   5584.31  5720.583583  \n15    -0.4760   6420.55  5807.025869  \n16    -0.3680  12142.85  4038.993627  \n17    -0.1022  37572.65  2081.621336  \n18    -0.1947  33246.58  1879.614173  \n19    -0.3064  11598.96  3294.770945  \n20    -0.1163  30332.24  2796.569792  \n21    -0.0209  21089.17  3200.631744  \n22    -0.1958  13996.07  3310.770621  \n23     0.0469  22763.02  3248.623415  \n24     0.0741  13235.63  4054.849338  \n25    -0.3260   8631.71  4090.992008  \n26    -0.0804  26792.10  2899.935777  \n27    -0.1945  11572.00  3574.985326  \n28    -0.0059  35765.40  2399.982381  \n29    -0.0134  17731.62  3363.927296  \n30    -0.1910  23470.60  3160.281047  \n31    -0.1372  27363.21  2501.629847  ",
      "text/html": "<div>\n<style scoped>\n    .dataframe tbody tr th:only-of-type {\n        vertical-align: middle;\n    }\n\n    .dataframe tbody tr th {\n        vertical-align: top;\n    }\n\n    .dataframe thead th {\n        text-align: right;\n    }\n</style>\n<table border=\"1\" class=\"dataframe\">\n  <thead>\n    <tr style=\"text-align: right;\">\n      <th></th>\n      <th>Borough</th>\n      <th>Area</th>\n      <th>Population</th>\n      <th>Coordinates</th>\n      <th>Latitude</th>\n      <th>Longitude</th>\n      <th>Density</th>\n      <th>Radius</th>\n    </tr>\n  </thead>\n  <tbody>\n    <tr>\n      <th>0</th>\n      <td>Barking and Dagenham</td>\n      <td>13.93</td>\n      <td>194352</td>\n      <td>51.5607; 0.1557</td>\n      <td>51.5607</td>\n      <td>0.1557</td>\n      <td>13952.05</td>\n      <td>3242.808799</td>\n    </tr>\n    <tr>\n      <th>1</th>\n      <td>Barnet</td>\n      <td>33.49</td>\n      <td>369088</td>\n      <td>51.6252; -0.1517</td>\n      <td>51.6252</td>\n      <td>-0.1517</td>\n      <td>11020.84</td>\n      <td>5028.093653</td>\n    </tr>\n    <tr>\n      <th>2</th>\n      <td>Bexley</td>\n      <td>23.38</td>\n      <td>236687</td>\n      <td>51.4549; 0.1505</td>\n      <td>51.4549</td>\n      <td>0.1505</td>\n      <td>10123.48</td>\n      <td>4201.148547</td>\n    </tr>\n    <tr>\n      <th>3</th>\n      <td>Brent</td>\n      <td>16.70</td>\n      <td>317264</td>\n      <td>51.5588; -0.2817</td>\n      <td>51.5588</td>\n      <td>-0.2817</td>\n      <td>18997.84</td>\n      <td>3550.618569</td>\n    </tr>\n    <tr>\n      <th>4</th>\n      <td>Bromley</td>\n      <td>57.97</td>\n      <td>317899</td>\n      <td>51.4039; 0.0198</td>\n      <td>51.4039</td>\n      <td>0.0198</td>\n      <td>5483.85</td>\n      <td>6615.267871</td>\n    </tr>\n    <tr>\n      <th>5</th>\n      <td>Camden</td>\n      <td>8.40</td>\n      <td>229719</td>\n      <td>51.5290; -0.1255</td>\n      <td>51.5290</td>\n      <td>-0.1255</td>\n      <td>27347.50</td>\n      <td>2518.172214</td>\n    </tr>\n    <tr>\n      <th>6</th>\n      <td>Croydon</td>\n      <td>33.41</td>\n      <td>372752</td>\n      <td>51.3714; -0.0977</td>\n      <td>51.3714</td>\n      <td>-0.0977</td>\n      <td>11156.90</td>\n      <td>5022.084576</td>\n    </tr>\n    <tr>\n      <th>7</th>\n      <td>Ealing</td>\n      <td>21.44</td>\n      <td>342494</td>\n      <td>51.5130; -0.3089</td>\n      <td>51.5130</td>\n      <td>-0.3089</td>\n      <td>15974.53</td>\n      <td>4023.075426</td>\n    </tr>\n    <tr>\n      <th>8</th>\n      <td>Enfield</td>\n      <td>31.74</td>\n      <td>320524</td>\n      <td>51.6538; -0.0799</td>\n      <td>51.6538</td>\n      <td>-0.0799</td>\n      <td>10098.42</td>\n      <td>4894.961110</td>\n    </tr>\n    <tr>\n      <th>9</th>\n      <td>Greenwich</td>\n      <td>18.28</td>\n      <td>264008</td>\n      <td>51.4892; 0.0648</td>\n      <td>51.4892</td>\n      <td>0.0648</td>\n      <td>14442.45</td>\n      <td>3714.786685</td>\n    </tr>\n    <tr>\n      <th>10</th>\n      <td>Hackney</td>\n      <td>7.36</td>\n      <td>257379</td>\n      <td>51.5450; -0.0553</td>\n      <td>51.5450</td>\n      <td>-0.0553</td>\n      <td>34969.97</td>\n      <td>2357.136276</td>\n    </tr>\n    <tr>\n      <th>11</th>\n      <td>Hammersmith and Fulham</td>\n      <td>6.33</td>\n      <td>178685</td>\n      <td>51.4927; -0.2339</td>\n      <td>51.4927</td>\n      <td>-0.2339</td>\n      <td>28228.28</td>\n      <td>2185.987325</td>\n    </tr>\n    <tr>\n      <th>12</th>\n      <td>Haringey</td>\n      <td>11.42</td>\n      <td>263386</td>\n      <td>51.6000; -0.1119</td>\n      <td>51.6000</td>\n      <td>-0.1119</td>\n      <td>23063.57</td>\n      <td>2936.154041</td>\n    </tr>\n    <tr>\n      <th>13</th>\n      <td>Harrow</td>\n      <td>19.49</td>\n      <td>243372</td>\n      <td>51.5898; -0.3346</td>\n      <td>51.5898</td>\n      <td>-0.3346</td>\n      <td>12487.02</td>\n      <td>3835.762456</td>\n    </tr>\n    <tr>\n      <th>14</th>\n      <td>Havering</td>\n      <td>43.35</td>\n      <td>242080</td>\n      <td>51.5812; 0.1837</td>\n      <td>51.5812</td>\n      <td>0.1837</td>\n      <td>5584.31</td>\n      <td>5720.583583</td>\n    </tr>\n    <tr>\n      <th>15</th>\n      <td>Hillingdon</td>\n      <td>44.67</td>\n      <td>286806</td>\n      <td>51.5441; -0.4760</td>\n      <td>51.5441</td>\n      <td>-0.4760</td>\n      <td>6420.55</td>\n      <td>5807.025869</td>\n    </tr>\n    <tr>\n      <th>16</th>\n      <td>Hounslow</td>\n      <td>21.61</td>\n      <td>262407</td>\n      <td>51.4746; -0.3680</td>\n      <td>51.4746</td>\n      <td>-0.3680</td>\n      <td>12142.85</td>\n      <td>4038.993627</td>\n    </tr>\n    <tr>\n      <th>17</th>\n      <td>Islington</td>\n      <td>5.74</td>\n      <td>215667</td>\n      <td>51.5416; -0.1022</td>\n      <td>51.5416</td>\n      <td>-0.1022</td>\n      <td>37572.65</td>\n      <td>2081.621336</td>\n    </tr>\n    <tr>\n      <th>18</th>\n      <td>Kensington and Chelsea</td>\n      <td>4.68</td>\n      <td>155594</td>\n      <td>51.5020; -0.1947</td>\n      <td>51.5020</td>\n      <td>-0.1947</td>\n      <td>33246.58</td>\n      <td>1879.614173</td>\n    </tr>\n    <tr>\n      <th>19</th>\n      <td>Kingston upon Thames</td>\n      <td>14.38</td>\n      <td>166793</td>\n      <td>51.4085; -0.3064</td>\n      <td>51.4085</td>\n      <td>-0.3064</td>\n      <td>11598.96</td>\n      <td>3294.770945</td>\n    </tr>\n    <tr>\n      <th>20</th>\n      <td>Lambeth</td>\n      <td>10.36</td>\n      <td>314242</td>\n      <td>51.4607; -0.1163</td>\n      <td>51.4607</td>\n      <td>-0.1163</td>\n      <td>30332.24</td>\n      <td>2796.569792</td>\n    </tr>\n    <tr>\n      <th>21</th>\n      <td>Lewisham</td>\n      <td>13.57</td>\n      <td>286180</td>\n      <td>51.4452; -0.0209</td>\n      <td>51.4452</td>\n      <td>-0.0209</td>\n      <td>21089.17</td>\n      <td>3200.631744</td>\n    </tr>\n    <tr>\n      <th>22</th>\n      <td>Merton</td>\n      <td>14.52</td>\n      <td>203223</td>\n      <td>51.4014; -0.1958</td>\n      <td>51.4014</td>\n      <td>-0.1958</td>\n      <td>13996.07</td>\n      <td>3310.770621</td>\n    </tr>\n    <tr>\n      <th>23</th>\n      <td>Newham</td>\n      <td>13.98</td>\n      <td>318227</td>\n      <td>51.5077; 0.0469</td>\n      <td>51.5077</td>\n      <td>0.0469</td>\n      <td>22763.02</td>\n      <td>3248.623415</td>\n    </tr>\n    <tr>\n      <th>24</th>\n      <td>Redbridge</td>\n      <td>21.78</td>\n      <td>288272</td>\n      <td>51.5590; 0.0741</td>\n      <td>51.5590</td>\n      <td>0.0741</td>\n      <td>13235.63</td>\n      <td>4054.849338</td>\n    </tr>\n    <tr>\n      <th>25</th>\n      <td>Richmond upon Thames</td>\n      <td>22.17</td>\n      <td>191365</td>\n      <td>51.4479; -0.3260</td>\n      <td>51.4479</td>\n      <td>-0.3260</td>\n      <td>8631.71</td>\n      <td>4090.992008</td>\n    </tr>\n    <tr>\n      <th>26</th>\n      <td>Southwark</td>\n      <td>11.14</td>\n      <td>298464</td>\n      <td>51.5035; -0.0804</td>\n      <td>51.5035</td>\n      <td>-0.0804</td>\n      <td>26792.10</td>\n      <td>2899.935777</td>\n    </tr>\n    <tr>\n      <th>27</th>\n      <td>Sutton</td>\n      <td>16.93</td>\n      <td>195914</td>\n      <td>51.3618; -0.1945</td>\n      <td>51.3618</td>\n      <td>-0.1945</td>\n      <td>11572.00</td>\n      <td>3574.985326</td>\n    </tr>\n    <tr>\n      <th>28</th>\n      <td>Tower Hamlets</td>\n      <td>7.63</td>\n      <td>272890</td>\n      <td>51.5099; -0.0059</td>\n      <td>51.5099</td>\n      <td>-0.0059</td>\n      <td>35765.40</td>\n      <td>2399.982381</td>\n    </tr>\n    <tr>\n      <th>29</th>\n      <td>Waltham Forest</td>\n      <td>14.99</td>\n      <td>265797</td>\n      <td>51.5908; -0.0134</td>\n      <td>51.5908</td>\n      <td>-0.0134</td>\n      <td>17731.62</td>\n      <td>3363.927296</td>\n    </tr>\n    <tr>\n      <th>30</th>\n      <td>Wandsworth</td>\n      <td>13.23</td>\n      <td>310516</td>\n      <td>51.4567; -0.1910</td>\n      <td>51.4567</td>\n      <td>-0.1910</td>\n      <td>23470.60</td>\n      <td>3160.281047</td>\n    </tr>\n    <tr>\n      <th>31</th>\n      <td>Westminster</td>\n      <td>8.29</td>\n      <td>226841</td>\n      <td>51.4973; -0.1372</td>\n      <td>51.4973</td>\n      <td>-0.1372</td>\n      <td>27363.21</td>\n      <td>2501.629847</td>\n    </tr>\n  </tbody>\n</table>\n</div>"
     },
     "metadata": {},
     "execution_count": 12
    }
   ],
   "source": [
    "dfLondon"
   ]
  },
  {
   "cell_type": "code",
   "execution_count": 13,
   "metadata": {
    "tags": []
   },
   "outputs": [
    {
     "output_type": "execute_result",
     "data": {
      "text/plain": "                   Borough   Area  Population         Coordinates  Latitude  \\\n19    Kingston upon Thames  14.38      166793   51.4085; -0.3064    51.4085   \n6                  Croydon  33.41      372752   51.3714; -0.0977    51.3714   \n4                  Bromley  57.97      317899    51.4039; 0.0198    51.4039   \n16                Hounslow  21.61      262407   51.4746; -0.3680    51.4746   \n7                   Ealing  21.44      342494   51.5130; -0.3089    51.5130   \n14                Havering  43.35      242080    51.5812; 0.1837    51.5812   \n15              Hillingdon  44.67      286806   51.5441; -0.4760    51.5441   \n13                  Harrow  19.49      243372   51.5898; -0.3346    51.5898   \n3                    Brent  16.70      317264   51.5588; -0.2817    51.5588   \n1                   Barnet  33.49      369088   51.6252; -0.1517    51.6252   \n20                 Lambeth  10.36      314242   51.4607; -0.1163    51.4607   \n26               Southwark  11.14      298464   51.5035; -0.0804    51.5035   \n21                Lewisham  13.57      286180   51.4452; -0.0209    51.4452   \n9                Greenwich  18.28      264008    51.4892; 0.0648    51.4892   \n2                   Bexley  23.38      236687    51.4549; 0.1505    51.4549   \n8                  Enfield  31.74      320524   51.6538; -0.0799    51.6538   \n29          Waltham Forest  14.99      265797   51.5908; -0.0134    51.5908   \n24               Redbridge  21.78      288272    51.5590; 0.0741    51.5590   \n27                  Sutton  16.93      195914   51.3618; -0.1945    51.3618   \n25    Richmond upon Thames  22.17      191365   51.4479; -0.3260    51.4479   \n22                  Merton  14.52      203223   51.4014; -0.1958    51.4014   \n30              Wandsworth  13.23      310516   51.4567; -0.1910    51.4567   \n11  Hammersmith and Fulham   6.33      178685   51.4927; -0.2339    51.4927   \n18  Kensington and Chelsea   4.68      155594   51.5020; -0.1947    51.5020   \n31             Westminster   8.29      226841   51.4973; -0.1372    51.4973   \n5                   Camden   8.40      229719   51.5290; -0.1255    51.5290   \n28           Tower Hamlets   7.63      272890   51.5099; -0.0059    51.5099   \n17               Islington   5.74      215667   51.5416; -0.1022    51.5416   \n10                 Hackney   7.36      257379   51.5450; -0.0553    51.5450   \n12                Haringey  11.42      263386   51.6000; -0.1119    51.6000   \n23                  Newham  13.98      318227    51.5077; 0.0469    51.5077   \n0     Barking and Dagenham  13.93      194352    51.5607; 0.1557    51.5607   \n\n    Longitude   Density       Radius  GeoFeature  \n19    -0.3064  11598.96  3294.770945           0  \n6     -0.0977  11156.90  5022.084576           1  \n4      0.0198   5483.85  6615.267871           2  \n16    -0.3680  12142.85  4038.993627           3  \n7     -0.3089  15974.53  4023.075426           4  \n14     0.1837   5584.31  5720.583583           5  \n15    -0.4760   6420.55  5807.025869           6  \n13    -0.3346  12487.02  3835.762456           7  \n3     -0.2817  18997.84  3550.618569           8  \n1     -0.1517  11020.84  5028.093653           9  \n20    -0.1163  30332.24  2796.569792          10  \n26    -0.0804  26792.10  2899.935777          11  \n21    -0.0209  21089.17  3200.631744          12  \n9      0.0648  14442.45  3714.786685          13  \n2      0.1505  10123.48  4201.148547          14  \n8     -0.0799  10098.42  4894.961110          15  \n29    -0.0134  17731.62  3363.927296          16  \n24     0.0741  13235.63  4054.849338          17  \n27    -0.1945  11572.00  3574.985326          18  \n25    -0.3260   8631.71  4090.992008          19  \n22    -0.1958  13996.07  3310.770621          20  \n30    -0.1910  23470.60  3160.281047          21  \n11    -0.2339  28228.28  2185.987325          22  \n18    -0.1947  33246.58  1879.614173          23  \n31    -0.1372  27363.21  2501.629847          24  \n5     -0.1255  27347.50  2518.172214          25  \n28    -0.0059  35765.40  2399.982381          26  \n17    -0.1022  37572.65  2081.621336          27  \n10    -0.0553  34969.97  2357.136276          28  \n12    -0.1119  23063.57  2936.154041          29  \n23     0.0469  22763.02  3248.623415          30  \n0      0.1557  13952.05  3242.808799          31  ",
      "text/html": "<div>\n<style scoped>\n    .dataframe tbody tr th:only-of-type {\n        vertical-align: middle;\n    }\n\n    .dataframe tbody tr th {\n        vertical-align: top;\n    }\n\n    .dataframe thead th {\n        text-align: right;\n    }\n</style>\n<table border=\"1\" class=\"dataframe\">\n  <thead>\n    <tr style=\"text-align: right;\">\n      <th></th>\n      <th>Borough</th>\n      <th>Area</th>\n      <th>Population</th>\n      <th>Coordinates</th>\n      <th>Latitude</th>\n      <th>Longitude</th>\n      <th>Density</th>\n      <th>Radius</th>\n      <th>GeoFeature</th>\n    </tr>\n  </thead>\n  <tbody>\n    <tr>\n      <th>19</th>\n      <td>Kingston upon Thames</td>\n      <td>14.38</td>\n      <td>166793</td>\n      <td>51.4085; -0.3064</td>\n      <td>51.4085</td>\n      <td>-0.3064</td>\n      <td>11598.96</td>\n      <td>3294.770945</td>\n      <td>0</td>\n    </tr>\n    <tr>\n      <th>6</th>\n      <td>Croydon</td>\n      <td>33.41</td>\n      <td>372752</td>\n      <td>51.3714; -0.0977</td>\n      <td>51.3714</td>\n      <td>-0.0977</td>\n      <td>11156.90</td>\n      <td>5022.084576</td>\n      <td>1</td>\n    </tr>\n    <tr>\n      <th>4</th>\n      <td>Bromley</td>\n      <td>57.97</td>\n      <td>317899</td>\n      <td>51.4039; 0.0198</td>\n      <td>51.4039</td>\n      <td>0.0198</td>\n      <td>5483.85</td>\n      <td>6615.267871</td>\n      <td>2</td>\n    </tr>\n    <tr>\n      <th>16</th>\n      <td>Hounslow</td>\n      <td>21.61</td>\n      <td>262407</td>\n      <td>51.4746; -0.3680</td>\n      <td>51.4746</td>\n      <td>-0.3680</td>\n      <td>12142.85</td>\n      <td>4038.993627</td>\n      <td>3</td>\n    </tr>\n    <tr>\n      <th>7</th>\n      <td>Ealing</td>\n      <td>21.44</td>\n      <td>342494</td>\n      <td>51.5130; -0.3089</td>\n      <td>51.5130</td>\n      <td>-0.3089</td>\n      <td>15974.53</td>\n      <td>4023.075426</td>\n      <td>4</td>\n    </tr>\n    <tr>\n      <th>14</th>\n      <td>Havering</td>\n      <td>43.35</td>\n      <td>242080</td>\n      <td>51.5812; 0.1837</td>\n      <td>51.5812</td>\n      <td>0.1837</td>\n      <td>5584.31</td>\n      <td>5720.583583</td>\n      <td>5</td>\n    </tr>\n    <tr>\n      <th>15</th>\n      <td>Hillingdon</td>\n      <td>44.67</td>\n      <td>286806</td>\n      <td>51.5441; -0.4760</td>\n      <td>51.5441</td>\n      <td>-0.4760</td>\n      <td>6420.55</td>\n      <td>5807.025869</td>\n      <td>6</td>\n    </tr>\n    <tr>\n      <th>13</th>\n      <td>Harrow</td>\n      <td>19.49</td>\n      <td>243372</td>\n      <td>51.5898; -0.3346</td>\n      <td>51.5898</td>\n      <td>-0.3346</td>\n      <td>12487.02</td>\n      <td>3835.762456</td>\n      <td>7</td>\n    </tr>\n    <tr>\n      <th>3</th>\n      <td>Brent</td>\n      <td>16.70</td>\n      <td>317264</td>\n      <td>51.5588; -0.2817</td>\n      <td>51.5588</td>\n      <td>-0.2817</td>\n      <td>18997.84</td>\n      <td>3550.618569</td>\n      <td>8</td>\n    </tr>\n    <tr>\n      <th>1</th>\n      <td>Barnet</td>\n      <td>33.49</td>\n      <td>369088</td>\n      <td>51.6252; -0.1517</td>\n      <td>51.6252</td>\n      <td>-0.1517</td>\n      <td>11020.84</td>\n      <td>5028.093653</td>\n      <td>9</td>\n    </tr>\n    <tr>\n      <th>20</th>\n      <td>Lambeth</td>\n      <td>10.36</td>\n      <td>314242</td>\n      <td>51.4607; -0.1163</td>\n      <td>51.4607</td>\n      <td>-0.1163</td>\n      <td>30332.24</td>\n      <td>2796.569792</td>\n      <td>10</td>\n    </tr>\n    <tr>\n      <th>26</th>\n      <td>Southwark</td>\n      <td>11.14</td>\n      <td>298464</td>\n      <td>51.5035; -0.0804</td>\n      <td>51.5035</td>\n      <td>-0.0804</td>\n      <td>26792.10</td>\n      <td>2899.935777</td>\n      <td>11</td>\n    </tr>\n    <tr>\n      <th>21</th>\n      <td>Lewisham</td>\n      <td>13.57</td>\n      <td>286180</td>\n      <td>51.4452; -0.0209</td>\n      <td>51.4452</td>\n      <td>-0.0209</td>\n      <td>21089.17</td>\n      <td>3200.631744</td>\n      <td>12</td>\n    </tr>\n    <tr>\n      <th>9</th>\n      <td>Greenwich</td>\n      <td>18.28</td>\n      <td>264008</td>\n      <td>51.4892; 0.0648</td>\n      <td>51.4892</td>\n      <td>0.0648</td>\n      <td>14442.45</td>\n      <td>3714.786685</td>\n      <td>13</td>\n    </tr>\n    <tr>\n      <th>2</th>\n      <td>Bexley</td>\n      <td>23.38</td>\n      <td>236687</td>\n      <td>51.4549; 0.1505</td>\n      <td>51.4549</td>\n      <td>0.1505</td>\n      <td>10123.48</td>\n      <td>4201.148547</td>\n      <td>14</td>\n    </tr>\n    <tr>\n      <th>8</th>\n      <td>Enfield</td>\n      <td>31.74</td>\n      <td>320524</td>\n      <td>51.6538; -0.0799</td>\n      <td>51.6538</td>\n      <td>-0.0799</td>\n      <td>10098.42</td>\n      <td>4894.961110</td>\n      <td>15</td>\n    </tr>\n    <tr>\n      <th>29</th>\n      <td>Waltham Forest</td>\n      <td>14.99</td>\n      <td>265797</td>\n      <td>51.5908; -0.0134</td>\n      <td>51.5908</td>\n      <td>-0.0134</td>\n      <td>17731.62</td>\n      <td>3363.927296</td>\n      <td>16</td>\n    </tr>\n    <tr>\n      <th>24</th>\n      <td>Redbridge</td>\n      <td>21.78</td>\n      <td>288272</td>\n      <td>51.5590; 0.0741</td>\n      <td>51.5590</td>\n      <td>0.0741</td>\n      <td>13235.63</td>\n      <td>4054.849338</td>\n      <td>17</td>\n    </tr>\n    <tr>\n      <th>27</th>\n      <td>Sutton</td>\n      <td>16.93</td>\n      <td>195914</td>\n      <td>51.3618; -0.1945</td>\n      <td>51.3618</td>\n      <td>-0.1945</td>\n      <td>11572.00</td>\n      <td>3574.985326</td>\n      <td>18</td>\n    </tr>\n    <tr>\n      <th>25</th>\n      <td>Richmond upon Thames</td>\n      <td>22.17</td>\n      <td>191365</td>\n      <td>51.4479; -0.3260</td>\n      <td>51.4479</td>\n      <td>-0.3260</td>\n      <td>8631.71</td>\n      <td>4090.992008</td>\n      <td>19</td>\n    </tr>\n    <tr>\n      <th>22</th>\n      <td>Merton</td>\n      <td>14.52</td>\n      <td>203223</td>\n      <td>51.4014; -0.1958</td>\n      <td>51.4014</td>\n      <td>-0.1958</td>\n      <td>13996.07</td>\n      <td>3310.770621</td>\n      <td>20</td>\n    </tr>\n    <tr>\n      <th>30</th>\n      <td>Wandsworth</td>\n      <td>13.23</td>\n      <td>310516</td>\n      <td>51.4567; -0.1910</td>\n      <td>51.4567</td>\n      <td>-0.1910</td>\n      <td>23470.60</td>\n      <td>3160.281047</td>\n      <td>21</td>\n    </tr>\n    <tr>\n      <th>11</th>\n      <td>Hammersmith and Fulham</td>\n      <td>6.33</td>\n      <td>178685</td>\n      <td>51.4927; -0.2339</td>\n      <td>51.4927</td>\n      <td>-0.2339</td>\n      <td>28228.28</td>\n      <td>2185.987325</td>\n      <td>22</td>\n    </tr>\n    <tr>\n      <th>18</th>\n      <td>Kensington and Chelsea</td>\n      <td>4.68</td>\n      <td>155594</td>\n      <td>51.5020; -0.1947</td>\n      <td>51.5020</td>\n      <td>-0.1947</td>\n      <td>33246.58</td>\n      <td>1879.614173</td>\n      <td>23</td>\n    </tr>\n    <tr>\n      <th>31</th>\n      <td>Westminster</td>\n      <td>8.29</td>\n      <td>226841</td>\n      <td>51.4973; -0.1372</td>\n      <td>51.4973</td>\n      <td>-0.1372</td>\n      <td>27363.21</td>\n      <td>2501.629847</td>\n      <td>24</td>\n    </tr>\n    <tr>\n      <th>5</th>\n      <td>Camden</td>\n      <td>8.40</td>\n      <td>229719</td>\n      <td>51.5290; -0.1255</td>\n      <td>51.5290</td>\n      <td>-0.1255</td>\n      <td>27347.50</td>\n      <td>2518.172214</td>\n      <td>25</td>\n    </tr>\n    <tr>\n      <th>28</th>\n      <td>Tower Hamlets</td>\n      <td>7.63</td>\n      <td>272890</td>\n      <td>51.5099; -0.0059</td>\n      <td>51.5099</td>\n      <td>-0.0059</td>\n      <td>35765.40</td>\n      <td>2399.982381</td>\n      <td>26</td>\n    </tr>\n    <tr>\n      <th>17</th>\n      <td>Islington</td>\n      <td>5.74</td>\n      <td>215667</td>\n      <td>51.5416; -0.1022</td>\n      <td>51.5416</td>\n      <td>-0.1022</td>\n      <td>37572.65</td>\n      <td>2081.621336</td>\n      <td>27</td>\n    </tr>\n    <tr>\n      <th>10</th>\n      <td>Hackney</td>\n      <td>7.36</td>\n      <td>257379</td>\n      <td>51.5450; -0.0553</td>\n      <td>51.5450</td>\n      <td>-0.0553</td>\n      <td>34969.97</td>\n      <td>2357.136276</td>\n      <td>28</td>\n    </tr>\n    <tr>\n      <th>12</th>\n      <td>Haringey</td>\n      <td>11.42</td>\n      <td>263386</td>\n      <td>51.6000; -0.1119</td>\n      <td>51.6000</td>\n      <td>-0.1119</td>\n      <td>23063.57</td>\n      <td>2936.154041</td>\n      <td>29</td>\n    </tr>\n    <tr>\n      <th>23</th>\n      <td>Newham</td>\n      <td>13.98</td>\n      <td>318227</td>\n      <td>51.5077; 0.0469</td>\n      <td>51.5077</td>\n      <td>0.0469</td>\n      <td>22763.02</td>\n      <td>3248.623415</td>\n      <td>30</td>\n    </tr>\n    <tr>\n      <th>0</th>\n      <td>Barking and Dagenham</td>\n      <td>13.93</td>\n      <td>194352</td>\n      <td>51.5607; 0.1557</td>\n      <td>51.5607</td>\n      <td>0.1557</td>\n      <td>13952.05</td>\n      <td>3242.808799</td>\n      <td>31</td>\n    </tr>\n  </tbody>\n</table>\n</div>"
     },
     "metadata": {},
     "execution_count": 13
    }
   ],
   "source": [
    "# Add the feature id for the boundaries of each borough into our dfLondon dataframe.  We can use this later to determine if a supplied coordinate is within a boundary\n",
    "\n",
    "map_geo = \"geoData.json\"\n",
    "\n",
    "with open(map_geo) as f:\n",
    "    loadPoly = json.load(f)\n",
    "\n",
    "for i in range(0,33):\n",
    "  boroughName = loadPoly['features'][i]['properties']['name']\n",
    "  dfLondon.loc[dfLondon.Borough == boroughName,'GeoFeature']=i\n",
    "\n",
    "# Set as Integer value\n",
    "dfLondon.GeoFeature = dfLondon.GeoFeature.astype(int)\n",
    "\n",
    "# Display table in order to check all values are complete and there are no duplicates\n",
    "dfLondon.sort_values(by=['GeoFeature'])"
   ]
  },
  {
   "cell_type": "markdown",
   "metadata": {},
   "source": [
    "## Download Cycle Routes"
   ]
  },
  {
   "cell_type": "code",
   "execution_count": 14,
   "metadata": {
    "tags": []
   },
   "outputs": [
    {
     "output_type": "stream",
     "name": "stdout",
     "text": " Download Progress 100 % \nFinished\n"
    }
   ],
   "source": [
    "url = \"https://cycling.data.tfl.gov.uk/CycleRoutes/CycleRoutes.json\"\n",
    "lclfile = \"cycleRoutes.json\"\n",
    "urllib.request.urlretrieve(url, lclfile, reporthook=Download_Progress)\n",
    "print (\" \\nFinished\")"
   ]
  },
  {
   "cell_type": "code",
   "execution_count": 15,
   "metadata": {
    "tags": []
   },
   "outputs": [
    {
     "output_type": "stream",
     "name": "stdout",
     "text": "Length of Open Routes is 22658\nLength of In Progress Routes is 6795\nLength of Planned Routes is 8891\n38344\n"
    }
   ],
   "source": [
    "#Build three objects that include the co-ordinates for all cycle routes.  These have been split between open cycle routes, those that are currently in progress and any routes planned for the future.  We can use these to see how much of each type of route passes within each boroughs boundaries\n",
    "\n",
    "cycle_geo = \"cycleRoutes.json\"\n",
    "\n",
    "with open(cycle_geo) as f:\n",
    "    cycleRoutes = json.load(f)\n",
    "\n",
    "openRoute = []\n",
    "inProgressRoute = []\n",
    "plannedRoute = []\n",
    "\n",
    "for i in range(0,len(cycleRoutes['features'])):\n",
    "    if cycleRoutes['features'][i]['properties']['Status'] == 'Open':\n",
    "        addRoute = cycleRoutes['features'][i]['geometry']['coordinates']\n",
    "        \n",
    "        t = list(flatten(addRoute)) #We have multiple levels of lists.  Will flatten and rebuild as a single one\n",
    "        t2 = list(chunks(t,3))\n",
    "        \n",
    "        for x in range (0,len(t2)):\n",
    "            openRoute.append(t2[x])\n",
    "\n",
    "\n",
    "    if cycleRoutes['features'][i]['properties']['Status'] == 'In Progress':\n",
    "        addRoute = cycleRoutes['features'][i]['geometry']['coordinates']\n",
    "\n",
    "        t = list(flatten(addRoute)) #We have multiple levels of lists.  Will flatten and rebuild as a single one\n",
    "        t2 = list(chunks(t,3))\n",
    "        \n",
    "        for x in range (0,len(t2)):\n",
    "            inProgressRoute.append(t2[x])\n",
    "\n",
    "    if cycleRoutes['features'][i]['properties']['Status'] == 'Planned':\n",
    "        addRoute = cycleRoutes['features'][i]['geometry']['coordinates']\n",
    "\n",
    "        t = list(flatten(addRoute)) #We have multiple levels of lists.  Will flatten and rebuild as a single one\n",
    "        t2 = list(chunks(t,3))\n",
    "        \n",
    "        for x in range (0,len(t2)):\n",
    "            plannedRoute.append(t2[x])\n",
    "\n",
    "print(\"Length of Open Routes is {}\".format(len(openRoute)))\n",
    "print(\"Length of In Progress Routes is {}\".format(len(inProgressRoute)))\n",
    "print(\"Length of Planned Routes is {}\".format(len(plannedRoute)))\n",
    "print(len(openRoute)+len(inProgressRoute)+len(plannedRoute))\n"
   ]
  },
  {
   "cell_type": "code",
   "execution_count": 16,
   "metadata": {
    "tags": []
   },
   "outputs": [
    {
     "output_type": "execute_result",
     "data": {
      "text/plain": "   GeoFeature openRoute inProgressRoute plannedRoute\n0           0       417             891          187\n1           1        89               0          174\n2           2         0             286          413\n3           3         0               0          881\n4           4       628             565           36\n5           5         0               0            0\n6           6       129              36          167\n7           7         0               0            0\n8           8       426               5            0\n9           9         0               0            0\n10         10      1590             362          447\n11         11      1795             555         1109\n12         12       409             728          137\n13         13         0              69            0\n14         14         0             589            0\n15         15       997             798            0\n16         16      1614               0            0\n17         17       533               0          164\n18         18         0               0          101\n19         19       340               3          128\n20         20       388               0           67\n21         21      1638               0          872\n22         22       329              77          283\n23         23      1248              70          529\n24         24      2388             222         1329\n25         25       753             223          235\n26         26      1335               0          469\n27         27       797              13          308\n28         28      1429               0          108\n29         29       358               0            0\n30         30         0               0            0\n31         31        64              10           23",
      "text/html": "<div>\n<style scoped>\n    .dataframe tbody tr th:only-of-type {\n        vertical-align: middle;\n    }\n\n    .dataframe tbody tr th {\n        vertical-align: top;\n    }\n\n    .dataframe thead th {\n        text-align: right;\n    }\n</style>\n<table border=\"1\" class=\"dataframe\">\n  <thead>\n    <tr style=\"text-align: right;\">\n      <th></th>\n      <th>GeoFeature</th>\n      <th>openRoute</th>\n      <th>inProgressRoute</th>\n      <th>plannedRoute</th>\n    </tr>\n  </thead>\n  <tbody>\n    <tr>\n      <th>0</th>\n      <td>0</td>\n      <td>417</td>\n      <td>891</td>\n      <td>187</td>\n    </tr>\n    <tr>\n      <th>1</th>\n      <td>1</td>\n      <td>89</td>\n      <td>0</td>\n      <td>174</td>\n    </tr>\n    <tr>\n      <th>2</th>\n      <td>2</td>\n      <td>0</td>\n      <td>286</td>\n      <td>413</td>\n    </tr>\n    <tr>\n      <th>3</th>\n      <td>3</td>\n      <td>0</td>\n      <td>0</td>\n      <td>881</td>\n    </tr>\n    <tr>\n      <th>4</th>\n      <td>4</td>\n      <td>628</td>\n      <td>565</td>\n      <td>36</td>\n    </tr>\n    <tr>\n      <th>5</th>\n      <td>5</td>\n      <td>0</td>\n      <td>0</td>\n      <td>0</td>\n    </tr>\n    <tr>\n      <th>6</th>\n      <td>6</td>\n      <td>129</td>\n      <td>36</td>\n      <td>167</td>\n    </tr>\n    <tr>\n      <th>7</th>\n      <td>7</td>\n      <td>0</td>\n      <td>0</td>\n      <td>0</td>\n    </tr>\n    <tr>\n      <th>8</th>\n      <td>8</td>\n      <td>426</td>\n      <td>5</td>\n      <td>0</td>\n    </tr>\n    <tr>\n      <th>9</th>\n      <td>9</td>\n      <td>0</td>\n      <td>0</td>\n      <td>0</td>\n    </tr>\n    <tr>\n      <th>10</th>\n      <td>10</td>\n      <td>1590</td>\n      <td>362</td>\n      <td>447</td>\n    </tr>\n    <tr>\n      <th>11</th>\n      <td>11</td>\n      <td>1795</td>\n      <td>555</td>\n      <td>1109</td>\n    </tr>\n    <tr>\n      <th>12</th>\n      <td>12</td>\n      <td>409</td>\n      <td>728</td>\n      <td>137</td>\n    </tr>\n    <tr>\n      <th>13</th>\n      <td>13</td>\n      <td>0</td>\n      <td>69</td>\n      <td>0</td>\n    </tr>\n    <tr>\n      <th>14</th>\n      <td>14</td>\n      <td>0</td>\n      <td>589</td>\n      <td>0</td>\n    </tr>\n    <tr>\n      <th>15</th>\n      <td>15</td>\n      <td>997</td>\n      <td>798</td>\n      <td>0</td>\n    </tr>\n    <tr>\n      <th>16</th>\n      <td>16</td>\n      <td>1614</td>\n      <td>0</td>\n      <td>0</td>\n    </tr>\n    <tr>\n      <th>17</th>\n      <td>17</td>\n      <td>533</td>\n      <td>0</td>\n      <td>164</td>\n    </tr>\n    <tr>\n      <th>18</th>\n      <td>18</td>\n      <td>0</td>\n      <td>0</td>\n      <td>101</td>\n    </tr>\n    <tr>\n      <th>19</th>\n      <td>19</td>\n      <td>340</td>\n      <td>3</td>\n      <td>128</td>\n    </tr>\n    <tr>\n      <th>20</th>\n      <td>20</td>\n      <td>388</td>\n      <td>0</td>\n      <td>67</td>\n    </tr>\n    <tr>\n      <th>21</th>\n      <td>21</td>\n      <td>1638</td>\n      <td>0</td>\n      <td>872</td>\n    </tr>\n    <tr>\n      <th>22</th>\n      <td>22</td>\n      <td>329</td>\n      <td>77</td>\n      <td>283</td>\n    </tr>\n    <tr>\n      <th>23</th>\n      <td>23</td>\n      <td>1248</td>\n      <td>70</td>\n      <td>529</td>\n    </tr>\n    <tr>\n      <th>24</th>\n      <td>24</td>\n      <td>2388</td>\n      <td>222</td>\n      <td>1329</td>\n    </tr>\n    <tr>\n      <th>25</th>\n      <td>25</td>\n      <td>753</td>\n      <td>223</td>\n      <td>235</td>\n    </tr>\n    <tr>\n      <th>26</th>\n      <td>26</td>\n      <td>1335</td>\n      <td>0</td>\n      <td>469</td>\n    </tr>\n    <tr>\n      <th>27</th>\n      <td>27</td>\n      <td>797</td>\n      <td>13</td>\n      <td>308</td>\n    </tr>\n    <tr>\n      <th>28</th>\n      <td>28</td>\n      <td>1429</td>\n      <td>0</td>\n      <td>108</td>\n    </tr>\n    <tr>\n      <th>29</th>\n      <td>29</td>\n      <td>358</td>\n      <td>0</td>\n      <td>0</td>\n    </tr>\n    <tr>\n      <th>30</th>\n      <td>30</td>\n      <td>0</td>\n      <td>0</td>\n      <td>0</td>\n    </tr>\n    <tr>\n      <th>31</th>\n      <td>31</td>\n      <td>64</td>\n      <td>10</td>\n      <td>23</td>\n    </tr>\n  </tbody>\n</table>\n</div>"
     },
     "metadata": {},
     "execution_count": 16
    }
   ],
   "source": [
    "routeCounts = []\n",
    "\n",
    "routeLists = [openRoute, inProgressRoute, plannedRoute]\n",
    "\n",
    "\n",
    "import json\n",
    "\n",
    "with open(map_geo) as f:\n",
    "    loadBorough = json.load(f)\n",
    "\n",
    "dfRouteDensity = pd.DataFrame(columns = ['GeoFeature','openRoute', 'inProgressRoute', 'plannedRoute'])\n",
    "\n",
    "\n",
    "for i in range (0,32): # Cycle through each borough\n",
    "    dfRouteDensity.at[i,'GeoFeature'] = i\n",
    "    temp = loadBorough['features'][i]['geometry']['coordinates']\n",
    "    cList = ''\n",
    "    for t in range(0,len(temp)): # Cycle the type of route\n",
    "        boroughPoly = tuple(temp[t][0])\n",
    "        for routeList in routeLists:\n",
    "            if cList == 'openRoute':\n",
    "                cList = 'inProgressRoute'\n",
    "            elif cList == 'inProgressRoute':\n",
    "                cList = 'plannedRoute'\n",
    "            else:\n",
    "                cList = 'openRoute'\n",
    "            BDCount = 0\n",
    "            for n in range(len(routeList)): # For each set of co-ordinates check if it is within the boundary of the borough\n",
    "                x = (routeList[n][0])\n",
    "                y = (routeList[n][1])\n",
    "                if is_point_in_path(x,y,boroughPoly) == True:\n",
    "                    BDCount += 1\n",
    "            #print(i,cList, BDCount)\n",
    "            dfRouteDensity.at[i,cList] = BDCount # Add count value to our dfRouteDensity Dataframa\n",
    "\n",
    "dfRouteDensity\n"
   ]
  },
  {
   "cell_type": "markdown",
   "metadata": {},
   "source": [
    "## Use FourSquare API to download the list of Cycle Shops by each Borough in London"
   ]
  },
  {
   "cell_type": "code",
   "execution_count": 17,
   "metadata": {
    "tags": []
   },
   "outputs": [
    {
     "output_type": "stream",
     "name": "stdout",
     "text": "FourSquare Credentials Retrieved\n"
    }
   ],
   "source": [
    "sys.path.append('../') # Credentials file is in a sub directory so allow it to be loaded \n",
    "import credentials\n",
    "# Below 2 lines required if credentials had been updated\n",
    "#from importlib import reload\n",
    "#reload(credentials)\n",
    "\n",
    "CLIENT_ID = credentials.foursquare['client_id']# your Foursquare ID\n",
    "CLIENT_SECRET = credentials.foursquare['client_secret'] # your Foursquare Secret\n",
    "ACCESS_TOKEN = credentials.foursquare['access_token']\n",
    "VERSION = '20180605'\n",
    "\n",
    "print(\"FourSquare Credentials Retrieved\")"
   ]
  },
  {
   "cell_type": "code",
   "execution_count": 18,
   "metadata": {},
   "outputs": [],
   "source": [
    "\n",
    "# Function to get a list of cycle shops by the category ID \"4bf58dd8d48988d115951735\" taken from \n",
    "#https://api.foursquare.com/v2/venues/categories \n",
    "\n",
    "def getNearbyVenues(names, latitudes, longitudes, radius):\n",
    "\n",
    "    categoryId = \"4bf58dd8d48988d115951735\"\n",
    "    limit = 50 #API explorer shows this is max for each seach\n",
    "    \n",
    "    cycleShop_list=[]\n",
    "    for name, lat, lng, radius in zip(names, latitudes, longitudes, radius):\n",
    "        print('\\r',name, end='')\n",
    "            \n",
    "        # create the API request URL\n",
    "        url = 'https://api.foursquare.com/v2/venues/explore?&client_id={}&client_secret={}&v={}&ll={},{}&categoryId={}&time=any&day=any&sortByDistance=1&radius={}&limit={}'.format(\n",
    "            CLIENT_ID, \n",
    "            CLIENT_SECRET, \n",
    "            VERSION, \n",
    "            lat, \n",
    "            lng, \n",
    "            categoryId,\n",
    "            radius, \n",
    "            limit)\n",
    "            \n",
    "        # make the GET request\n",
    "        results = requests.get(url).json()[\"response\"]['groups'][0]['items']\n",
    "        \n",
    "        #return only relevant information for each nearby venue\n",
    "        cycleShop_list.append([(\n",
    "            name,  \n",
    "            lat, \n",
    "            lng,\n",
    "            v['venue']['name'], \n",
    "            v['venue']['location']['lat'], \n",
    "            v['venue']['location']['lng']) for v in results])\n",
    "    #print(cycleShop_list)\n",
    "\n",
    "    dfCycleShops = pd.DataFrame([item for cycleShop in cycleShop_list for item in cycleShop])\n",
    "    print(dfCycleShops)\n",
    "    dfCycleShops.columns = ['Borough', \n",
    "                  'PostalCode Latitude',\n",
    "                  'PostalCode Longitude', \n",
    "                  'Shop Name', \n",
    "                  'Shop Latitude', \n",
    "                  'Shop Longitude']\n",
    "    \n",
    "    return(dfCycleShops)"
   ]
  },
  {
   "cell_type": "code",
   "execution_count": 19,
   "metadata": {
    "tags": []
   },
   "outputs": [
    {
     "output_type": "stream",
     "name": "stdout",
     "text": "Westminster                        0        1       2                            3  \\\n0    Barking and Dagenham  51.5607  0.1557              The Cycle Store   \n1    Barking and Dagenham  51.5607  0.1557            Cycles Uk Romford   \n2                  Barnet  51.6252 -0.1517  Bike and Run (Road, TT etc)   \n3                  Barnet  51.6252 -0.1517           NRV Residents' Gym   \n4                  Barnet  51.6252 -0.1517        future cycle training   \n..                    ...      ...     ...                          ...   \n208           Westminster  51.4973 -0.1372                Balfe's Bikes   \n209           Westminster  51.4973 -0.1372            Brompton Junction   \n210           Westminster  51.4973 -0.1372                 Evans Cycles   \n211           Westminster  51.4973 -0.1372                   Velorution   \n212           Westminster  51.4973 -0.1372     TfL Santander Cycle Hire   \n\n             4         5  \n0    51.563217  0.117297  \n1    51.579158  0.181277  \n2    51.590831 -0.164390  \n3    51.590911 -0.116018  \n4    51.587297 -0.132605  \n..         ...       ...  \n208  51.486404 -0.111283  \n209  51.514481 -0.122230  \n210  51.517847 -0.141218  \n211  51.518197 -0.141877  \n212  51.519497 -0.135934  \n\n[213 rows x 6 columns]\n \nThe shape of the Cycling Shops dataframe is (213, 6)\n\nThe following table shows how many shops were returned for each Borough \n\n"
    },
    {
     "output_type": "execute_result",
     "data": {
      "text/plain": "                        Shop Name\nBorough                          \nBarking and Dagenham            2\nBarnet                          9\nBexley                          5\nBrent                           3\nBromley                         2\nCamden                         26\nCroydon                         4\nEaling                          6\nEnfield                         2\nGreenwich                       4\nHackney                         9\nHammersmith and Fulham         14\nHaringey                        5\nHarrow                          2\nHavering                        4\nHillingdon                      4\nHounslow                        4\nIslington                       9\nKensington and Chelsea          4\nKingston upon Thames            6\nLambeth                         7\nLewisham                        3\nMerton                          4\nNewham                          4\nRedbridge                       4\nRichmond upon Thames            7\nSouthwark                      24\nSutton                          4\nTower Hamlets                   5\nWaltham Forest                  3\nWandsworth                     12\nWestminster                    12",
      "text/html": "<div>\n<style scoped>\n    .dataframe tbody tr th:only-of-type {\n        vertical-align: middle;\n    }\n\n    .dataframe tbody tr th {\n        vertical-align: top;\n    }\n\n    .dataframe thead th {\n        text-align: right;\n    }\n</style>\n<table border=\"1\" class=\"dataframe\">\n  <thead>\n    <tr style=\"text-align: right;\">\n      <th></th>\n      <th>Shop Name</th>\n    </tr>\n    <tr>\n      <th>Borough</th>\n      <th></th>\n    </tr>\n  </thead>\n  <tbody>\n    <tr>\n      <th>Barking and Dagenham</th>\n      <td>2</td>\n    </tr>\n    <tr>\n      <th>Barnet</th>\n      <td>9</td>\n    </tr>\n    <tr>\n      <th>Bexley</th>\n      <td>5</td>\n    </tr>\n    <tr>\n      <th>Brent</th>\n      <td>3</td>\n    </tr>\n    <tr>\n      <th>Bromley</th>\n      <td>2</td>\n    </tr>\n    <tr>\n      <th>Camden</th>\n      <td>26</td>\n    </tr>\n    <tr>\n      <th>Croydon</th>\n      <td>4</td>\n    </tr>\n    <tr>\n      <th>Ealing</th>\n      <td>6</td>\n    </tr>\n    <tr>\n      <th>Enfield</th>\n      <td>2</td>\n    </tr>\n    <tr>\n      <th>Greenwich</th>\n      <td>4</td>\n    </tr>\n    <tr>\n      <th>Hackney</th>\n      <td>9</td>\n    </tr>\n    <tr>\n      <th>Hammersmith and Fulham</th>\n      <td>14</td>\n    </tr>\n    <tr>\n      <th>Haringey</th>\n      <td>5</td>\n    </tr>\n    <tr>\n      <th>Harrow</th>\n      <td>2</td>\n    </tr>\n    <tr>\n      <th>Havering</th>\n      <td>4</td>\n    </tr>\n    <tr>\n      <th>Hillingdon</th>\n      <td>4</td>\n    </tr>\n    <tr>\n      <th>Hounslow</th>\n      <td>4</td>\n    </tr>\n    <tr>\n      <th>Islington</th>\n      <td>9</td>\n    </tr>\n    <tr>\n      <th>Kensington and Chelsea</th>\n      <td>4</td>\n    </tr>\n    <tr>\n      <th>Kingston upon Thames</th>\n      <td>6</td>\n    </tr>\n    <tr>\n      <th>Lambeth</th>\n      <td>7</td>\n    </tr>\n    <tr>\n      <th>Lewisham</th>\n      <td>3</td>\n    </tr>\n    <tr>\n      <th>Merton</th>\n      <td>4</td>\n    </tr>\n    <tr>\n      <th>Newham</th>\n      <td>4</td>\n    </tr>\n    <tr>\n      <th>Redbridge</th>\n      <td>4</td>\n    </tr>\n    <tr>\n      <th>Richmond upon Thames</th>\n      <td>7</td>\n    </tr>\n    <tr>\n      <th>Southwark</th>\n      <td>24</td>\n    </tr>\n    <tr>\n      <th>Sutton</th>\n      <td>4</td>\n    </tr>\n    <tr>\n      <th>Tower Hamlets</th>\n      <td>5</td>\n    </tr>\n    <tr>\n      <th>Waltham Forest</th>\n      <td>3</td>\n    </tr>\n    <tr>\n      <th>Wandsworth</th>\n      <td>12</td>\n    </tr>\n    <tr>\n      <th>Westminster</th>\n      <td>12</td>\n    </tr>\n  </tbody>\n</table>\n</div>"
     },
     "metadata": {},
     "execution_count": 19
    }
   ],
   "source": [
    "# Let's get our list of cycle shops \n",
    "\n",
    "dfCycleShops = getNearbyVenues(names=dfLondon['Borough'],\n",
    "                                   latitudes=dfLondon['Latitude'],\n",
    "                                   longitudes=dfLondon['Longitude'],\n",
    "                                   radius=dfLondon['Radius']\n",
    "                                  )\n",
    "\n",
    "print(\" \\nThe shape of the Cycling Shops dataframe is {}\".format(dfCycleShops.shape))\n",
    "\n",
    "print(\"\\nThe following table shows how many shops were returned for each Borough \\n\")\n",
    "dfDistribution = pd.DataFrame(dfCycleShops[['Borough','Shop Name']].groupby('Borough').count())\n",
    "dfDistribution"
   ]
  },
  {
   "cell_type": "markdown",
   "metadata": {},
   "source": [
    "## Merge all data sources into the one table and tidy up data"
   ]
  },
  {
   "cell_type": "code",
   "execution_count": 24,
   "metadata": {},
   "outputs": [],
   "source": [
    "#We don't need this column anymore\n",
    "dfLondon.drop(columns = \"Coordinates\", inplace = True)\n",
    "\n",
    "# Add in the Cycle routes Data\n",
    "dfLondon = dfLondon.merge(dfRouteDensity, on=\"GeoFeature\")\n",
    "\n",
    "# Convert the columns to numeric\n",
    "cols = ['openRoute', 'inProgressRoute', 'plannedRoute']\n",
    "dfLondon[cols] = dfLondon[cols].apply(pd.to_numeric, errors='coerce', axis=1)\n",
    "\n",
    "# Add a total routes column\n",
    "dfLondon['Total Routes'] = round(dfLondon.openRoute + dfLondon.inProgressRoute + dfLondon.plannedRoute,2)\n",
    "\n",
    "#Add in the count of Cycle Shops for each borough\n",
    "dfLondon = pd.merge(dfLondon, dfDistribution, on='Borough')\n",
    "\n",
    "# Rename Columns ot more meaningful names\n",
    "dfLondon.rename(columns={\"Shop Name\" : \"Shop Count\",'openRoute': 'Open Routes', \n",
    "'inProgressRoute' : 'In Progress Routes', 'plannedRoute' : \"Planned Routes\"}, inplace=True)\n",
    "\n",
    "#We don't need these column anymore\n",
    "dfLondon.drop(columns = ['GeoFeature'], inplace = True)\n",
    "\n",
    "# Add a routes/shops column\n",
    "dfLondon['Route/Shop Ratio'] = round(dfLondon['Total Routes']/dfLondon['Shop Count'],2)"
   ]
  },
  {
   "cell_type": "code",
   "execution_count": 25,
   "metadata": {},
   "outputs": [],
   "source": [
    "\n",
    "\n",
    "# Backup latest updates\n",
    "dfLondon.to_csv (r'dfLondon.csv',index = False, header = True)\n",
    "dfCycleShops.to_csv (r'dfCycleShops.csv',index = False, header = True)\n"
   ]
  },
  {
   "cell_type": "markdown",
   "metadata": {},
   "source": [
    "### Three Python Notebooks\n",
    "\n",
    "1. Data Collection and Cleaning - https://github.com/moaeedsajid/Coursera_Capstone/blob/master/Capstone_1.ipynb\n",
    "2. Exploratory Data Analysis - https://github.com/moaeedsajid/Coursera_Capstone/blob/master/Capstone_2.ipynb\n",
    "3. Modelling and Results - https://github.com/moaeedsajid/Coursera_Capstone/blob/master/Capstone_3.ipynb"
   ]
  }
 ],
 "metadata": {
  "language_info": {
   "codemirror_mode": {
    "name": "ipython",
    "version": 3
   },
   "file_extension": ".py",
   "mimetype": "text/x-python",
   "name": "python",
   "nbconvert_exporter": "python",
   "pygments_lexer": "ipython3",
   "version": "3.7.5-final"
  },
  "orig_nbformat": 2,
  "kernelspec": {
   "name": "python37564bitfastaiprincessescondaf189446d34f043f290498170265c43c8",
   "display_name": "Python 3.7.5 64-bit ('fastai_Princesses': conda)"
  }
 },
 "nbformat": 4,
 "nbformat_minor": 2
}