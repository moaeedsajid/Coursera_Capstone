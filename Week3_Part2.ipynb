{
 "cells": [
  {
   "cell_type": "markdown",
   "metadata": {},
   "source": [
    "<a href=\"https://cognitiveclass.ai\"><img src = \"https://ibm.box.com/shared/static/9gegpsmnsoo25ikkbl4qzlvlyjbgxs5x.png\" width = 400> </a>\n",
    "\n",
    "<h1 align=center><font size = 5>Segmenting and Clustering Neighborhoods in Toronto City</font></h1>\n",
    "<h1 align=center><font size = 5>Moaeed Sajid - May 2020</font></h1>\n",
    "<h1 align=center><font size = 5>Part 2</font></h1>"
   ]
  },
  {
   "cell_type": "markdown",
   "metadata": {},
   "source": [
    "## Introduction\n",
    "\n",
    "In this assignment, we will explore, segment, and cluster the neighborhoods in the city of Toronto. However, unlike New York, the neighborhood data is not readily available on the internet. This will require me to be agile and refine my skills to learn new libraries and tools quickly depending on the project.\n",
    "\n",
    "*Part 1*\n",
    "\n",
    "For the Toronto neighborhood data, a Wikipedia page exists that has all the information we need to explore and cluster the neighborhoods in Toronto. We will scrape the Wikipedia page and wrangle the data, clean it, and then read it into a pandas dataframe so that it is in a structured format like the New York dataset.\n",
    "\n",
    "*Part 2*\n",
    "\n",
    "Import the latitude and longtitude of each area\n",
    "\n",
    "*Part 3*\n",
    "\n",
    "Once the data is in a structured format, replicate the analysis applied to the New York City dataset, to explore and cluster the neighborhoods in the city of Toronto."
   ]
  },
  {
   "cell_type": "markdown",
   "metadata": {},
   "source": [
    "#### Load data from our CSV file\n"
   ]
  },
  {
   "cell_type": "code",
   "execution_count": 1,
   "metadata": {},
   "outputs": [
    {
     "output_type": "display_data",
     "data": {
      "text/plain": "    PostalCode           Borough  \\\n0          M3A        North York   \n1          M4A        North York   \n2          M5A  Downtown Toronto   \n3          M6A        North York   \n4          M7A  Downtown Toronto   \n..         ...               ...   \n98         M8X         Etobicoke   \n99         M4Y  Downtown Toronto   \n100        M7Y      East Toronto   \n101        M8Y         Etobicoke   \n102        M8Z         Etobicoke   \n\n                                         Neighbourhood  \n0                                            Parkwoods  \n1                                     Victoria Village  \n2                            Regent Park, Harbourfront  \n3                     Lawrence Manor, Lawrence Heights  \n4          Queen's Park, Ontario Provincial Government  \n..                                                 ...  \n98       The Kingsway, Montgomery Road, Old Mill North  \n99                                Church and Wellesley  \n100              Business reply mail Processing Centre  \n101  Old Mill South, King's Mill Park, Sunnylea, Hu...  \n102  Mimico NW, The Queensway West, South of Bloor,...  \n\n[103 rows x 3 columns]",
      "text/html": "<div>\n<style scoped>\n    .dataframe tbody tr th:only-of-type {\n        vertical-align: middle;\n    }\n\n    .dataframe tbody tr th {\n        vertical-align: top;\n    }\n\n    .dataframe thead th {\n        text-align: right;\n    }\n</style>\n<table border=\"1\" class=\"dataframe\">\n  <thead>\n    <tr style=\"text-align: right;\">\n      <th></th>\n      <th>PostalCode</th>\n      <th>Borough</th>\n      <th>Neighbourhood</th>\n    </tr>\n  </thead>\n  <tbody>\n    <tr>\n      <td>0</td>\n      <td>M3A</td>\n      <td>North York</td>\n      <td>Parkwoods</td>\n    </tr>\n    <tr>\n      <td>1</td>\n      <td>M4A</td>\n      <td>North York</td>\n      <td>Victoria Village</td>\n    </tr>\n    <tr>\n      <td>2</td>\n      <td>M5A</td>\n      <td>Downtown Toronto</td>\n      <td>Regent Park, Harbourfront</td>\n    </tr>\n    <tr>\n      <td>3</td>\n      <td>M6A</td>\n      <td>North York</td>\n      <td>Lawrence Manor, Lawrence Heights</td>\n    </tr>\n    <tr>\n      <td>4</td>\n      <td>M7A</td>\n      <td>Downtown Toronto</td>\n      <td>Queen's Park, Ontario Provincial Government</td>\n    </tr>\n    <tr>\n      <td>...</td>\n      <td>...</td>\n      <td>...</td>\n      <td>...</td>\n    </tr>\n    <tr>\n      <td>98</td>\n      <td>M8X</td>\n      <td>Etobicoke</td>\n      <td>The Kingsway, Montgomery Road, Old Mill North</td>\n    </tr>\n    <tr>\n      <td>99</td>\n      <td>M4Y</td>\n      <td>Downtown Toronto</td>\n      <td>Church and Wellesley</td>\n    </tr>\n    <tr>\n      <td>100</td>\n      <td>M7Y</td>\n      <td>East Toronto</td>\n      <td>Business reply mail Processing Centre</td>\n    </tr>\n    <tr>\n      <td>101</td>\n      <td>M8Y</td>\n      <td>Etobicoke</td>\n      <td>Old Mill South, King's Mill Park, Sunnylea, Hu...</td>\n    </tr>\n    <tr>\n      <td>102</td>\n      <td>M8Z</td>\n      <td>Etobicoke</td>\n      <td>Mimico NW, The Queensway West, South of Bloor,...</td>\n    </tr>\n  </tbody>\n</table>\n<p>103 rows × 3 columns</p>\n</div>"
     },
     "metadata": {}
    }
   ],
   "source": [
    "import pandas as pd \n",
    "\n",
    "dfToronto = pd.read_csv('dfToronto.csv', header = 0)\n",
    "display(dfToronto)"
   ]
  },
  {
   "cell_type": "markdown",
   "metadata": {},
   "source": [
    "### Add in the latitude and longitude for each row"
   ]
  },
  {
   "cell_type": "code",
   "execution_count": 3,
   "metadata": {},
   "outputs": [
    {
     "output_type": "stream",
     "name": "stdout",
     "text": " M8Z [43.62549000000007, -79.52599999999995]\n103 requests made in total\n\n \nAdding Latitude and Longitude to the existing Dataframe \n\n\n"
    },
    {
     "output_type": "display_data",
     "data": {
      "text/plain": "    PostalCode           Borough  \\\n0          M3A        North York   \n1          M4A        North York   \n2          M5A  Downtown Toronto   \n3          M6A        North York   \n4          M7A  Downtown Toronto   \n..         ...               ...   \n98         M8X         Etobicoke   \n99         M4Y  Downtown Toronto   \n100        M7Y      East Toronto   \n101        M8Y         Etobicoke   \n102        M8Z         Etobicoke   \n\n                                         Neighbourhood   Latitude  Longitude  \n0                                            Parkwoods  43.752935 -79.335641  \n1                                     Victoria Village  43.728102 -79.311890  \n2                            Regent Park, Harbourfront  43.650964 -79.353041  \n3                     Lawrence Manor, Lawrence Heights  43.723265 -79.451211  \n4          Queen's Park, Ontario Provincial Government  43.661790 -79.389390  \n..                                                 ...        ...        ...  \n98       The Kingsway, Montgomery Road, Old Mill North  43.653340 -79.509766  \n99                                Church and Wellesley  43.666659 -79.381472  \n100              Business reply mail Processing Centre  43.648700 -79.385450  \n101  Old Mill South, King's Mill Park, Sunnylea, Hu...  43.632798 -79.493017  \n102  Mimico NW, The Queensway West, South of Bloor,...  43.625490 -79.526000  \n\n[103 rows x 5 columns]",
      "text/html": "<div>\n<style scoped>\n    .dataframe tbody tr th:only-of-type {\n        vertical-align: middle;\n    }\n\n    .dataframe tbody tr th {\n        vertical-align: top;\n    }\n\n    .dataframe thead th {\n        text-align: right;\n    }\n</style>\n<table border=\"1\" class=\"dataframe\">\n  <thead>\n    <tr style=\"text-align: right;\">\n      <th></th>\n      <th>PostalCode</th>\n      <th>Borough</th>\n      <th>Neighbourhood</th>\n      <th>Latitude</th>\n      <th>Longitude</th>\n    </tr>\n  </thead>\n  <tbody>\n    <tr>\n      <td>0</td>\n      <td>M3A</td>\n      <td>North York</td>\n      <td>Parkwoods</td>\n      <td>43.752935</td>\n      <td>-79.335641</td>\n    </tr>\n    <tr>\n      <td>1</td>\n      <td>M4A</td>\n      <td>North York</td>\n      <td>Victoria Village</td>\n      <td>43.728102</td>\n      <td>-79.311890</td>\n    </tr>\n    <tr>\n      <td>2</td>\n      <td>M5A</td>\n      <td>Downtown Toronto</td>\n      <td>Regent Park, Harbourfront</td>\n      <td>43.650964</td>\n      <td>-79.353041</td>\n    </tr>\n    <tr>\n      <td>3</td>\n      <td>M6A</td>\n      <td>North York</td>\n      <td>Lawrence Manor, Lawrence Heights</td>\n      <td>43.723265</td>\n      <td>-79.451211</td>\n    </tr>\n    <tr>\n      <td>4</td>\n      <td>M7A</td>\n      <td>Downtown Toronto</td>\n      <td>Queen's Park, Ontario Provincial Government</td>\n      <td>43.661790</td>\n      <td>-79.389390</td>\n    </tr>\n    <tr>\n      <td>...</td>\n      <td>...</td>\n      <td>...</td>\n      <td>...</td>\n      <td>...</td>\n      <td>...</td>\n    </tr>\n    <tr>\n      <td>98</td>\n      <td>M8X</td>\n      <td>Etobicoke</td>\n      <td>The Kingsway, Montgomery Road, Old Mill North</td>\n      <td>43.653340</td>\n      <td>-79.509766</td>\n    </tr>\n    <tr>\n      <td>99</td>\n      <td>M4Y</td>\n      <td>Downtown Toronto</td>\n      <td>Church and Wellesley</td>\n      <td>43.666659</td>\n      <td>-79.381472</td>\n    </tr>\n    <tr>\n      <td>100</td>\n      <td>M7Y</td>\n      <td>East Toronto</td>\n      <td>Business reply mail Processing Centre</td>\n      <td>43.648700</td>\n      <td>-79.385450</td>\n    </tr>\n    <tr>\n      <td>101</td>\n      <td>M8Y</td>\n      <td>Etobicoke</td>\n      <td>Old Mill South, King's Mill Park, Sunnylea, Hu...</td>\n      <td>43.632798</td>\n      <td>-79.493017</td>\n    </tr>\n    <tr>\n      <td>102</td>\n      <td>M8Z</td>\n      <td>Etobicoke</td>\n      <td>Mimico NW, The Queensway West, South of Bloor,...</td>\n      <td>43.625490</td>\n      <td>-79.526000</td>\n    </tr>\n  </tbody>\n</table>\n<p>103 rows × 5 columns</p>\n</div>"
     },
     "metadata": {}
    }
   ],
   "source": [
    "#!pip install geocoder\n",
    "import geocoder # import geocoder\n",
    "import time\n",
    "import pandas as pd\n",
    "\n",
    "\n",
    "# Create empty lists\n",
    "latitude = []\n",
    "longitude = []\n",
    "total_rqsts = 0\n",
    "\n",
    "\n",
    "for n in range(0,len(dfToronto)):\n",
    "    postal_code = dfToronto.PostalCode[n]\n",
    "    lat_lng_coords = None\n",
    "    current_rqsts = 0\n",
    "\n",
    "    # loop until you get the coordinates\n",
    "    while(lat_lng_coords is None):\n",
    "        g = geocoder.arcgis('{}, Toronto, Ontario'.format(postal_code))\n",
    "        lat_lng_coords = g.latlng\n",
    "        current_rqsts += 1\n",
    "        if current_rqsts > 3:\n",
    "            time.sleep(2) # Add in a time delay to see if it improves our chance of achieving a result\n",
    "        elif current_rqsts == 10:\n",
    "            lat_lng_coords = ['Tries Exceeded','Tries Exceeded']\n",
    "        print('\\r',postal_code, lat_lng_coords, end='') # Displays and overwrites each entry as it is being searched\n",
    "\n",
    "    total_rqsts += current_rqsts\n",
    "    latitude.append(lat_lng_coords[0])\n",
    "    longitude.append(lat_lng_coords[1])\n",
    "\n",
    "\n",
    "print(\"\\n{} requests made in total\".format(total_rqsts))\n",
    "\n",
    "print()\n",
    "print(\" \\nAdding Latitude and Longitude to the existing Dataframe \\n\")\n",
    "print()\n",
    "dfToronto['Latitude'] = latitude\n",
    "dfToronto['Longitude'] = longitude\n",
    "\n",
    "display(dfToronto)"
   ]
  },
  {
   "cell_type": "markdown",
   "metadata": {},
   "source": [
    "### Save our dataframe to CSV for use in Part 3"
   ]
  },
  {
   "cell_type": "code",
   "execution_count": 4,
   "metadata": {},
   "outputs": [
    {
     "output_type": "stream",
     "name": "stdout",
     "text": "\nSaved dataframe to CSV\n"
    }
   ],
   "source": [
    "\n",
    "dfToronto.to_csv (r'dfTorontoLL.csv',index = False, header = True)\n",
    "print('\\nSaved dataframe to CSV')"
   ]
  }
 ],
 "metadata": {
  "language_info": {
   "codemirror_mode": {
    "name": "ipython",
    "version": 3
   },
   "file_extension": ".py",
   "mimetype": "text/x-python",
   "name": "python",
   "nbconvert_exporter": "python",
   "pygments_lexer": "ipython3",
   "version": "3.7.5-final"
  },
  "orig_nbformat": 2,
  "kernelspec": {
   "name": "python3",
   "display_name": "Python 3"
  }
 },
 "nbformat": 4,
 "nbformat_minor": 2
}